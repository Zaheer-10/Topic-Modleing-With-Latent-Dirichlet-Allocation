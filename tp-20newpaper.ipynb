{
 "cells": [
  {
   "cell_type": "markdown",
   "id": "a6f5d864",
   "metadata": {},
   "source": [
    "# Project on 20 Newsgroups’ dataset and use LDA to extract the naturally discussed topics."
   ]
  },
  {
   "cell_type": "markdown",
   "id": "ae992c18",
   "metadata": {},
   "source": [
    "### Download nltk stopwords and spacy model"
   ]
  },
  {
   "cell_type": "code",
   "execution_count": 6,
   "id": "5e4d03d5",
   "metadata": {},
   "outputs": [
    {
     "name": "stderr",
     "output_type": "stream",
     "text": [
      "[nltk_data] Downloading package stopwords to\n",
      "[nltk_data]     C:\\Users\\soulo\\AppData\\Roaming\\nltk_data...\n",
      "[nltk_data]   Package stopwords is already up-to-date!\n"
     ]
    },
    {
     "name": "stdout",
     "output_type": "stream",
     "text": [
      "Requirement already satisfied: spacy in c:\\users\\soulo\\anaconda3\\lib\\site-packages (3.5.2)\n",
      "Collecting download\n",
      "  Using cached download-0.3.5-py3-none-any.whl (8.8 kB)\n"
     ]
    },
    {
     "name": "stderr",
     "output_type": "stream",
     "text": [
      "WARNING: Ignoring invalid distribution -lotly (c:\\users\\soulo\\anaconda3\\lib\\site-packages)\n",
      "WARNING: Ignoring invalid distribution -atplotlib (c:\\users\\soulo\\anaconda3\\lib\\site-packages)\n",
      "WARNING: Ignoring invalid distribution -lotly (c:\\users\\soulo\\anaconda3\\lib\\site-packages)\n",
      "WARNING: Ignoring invalid distribution -atplotlib (c:\\users\\soulo\\anaconda3\\lib\\site-packages)\n",
      "ERROR: Could not find a version that satisfies the requirement en (from versions: none)\n",
      "ERROR: No matching distribution found for en\n",
      "WARNING: Ignoring invalid distribution -lotly (c:\\users\\soulo\\anaconda3\\lib\\site-packages)\n",
      "WARNING: Ignoring invalid distribution -atplotlib (c:\\users\\soulo\\anaconda3\\lib\\site-packages)\n",
      "WARNING: Ignoring invalid distribution -lotly (c:\\users\\soulo\\anaconda3\\lib\\site-packages)\n",
      "WARNING: Ignoring invalid distribution -atplotlib (c:\\users\\soulo\\anaconda3\\lib\\site-packages)\n",
      "WARNING: Ignoring invalid distribution -lotly (c:\\users\\soulo\\anaconda3\\lib\\site-packages)\n",
      "WARNING: Ignoring invalid distribution -atplotlib (c:\\users\\soulo\\anaconda3\\lib\\site-packages)\n"
     ]
    }
   ],
   "source": [
    "\n",
    "import nltk; nltk.download('stopwords')\n",
    "\n",
    "!pip install spacy download en"
   ]
  },
  {
   "cell_type": "markdown",
   "id": "a8ef214f",
   "metadata": {},
   "source": [
    "### Import Packages"
   ]
  },
  {
   "cell_type": "code",
   "execution_count": 7,
   "id": "1f1e4310",
   "metadata": {},
   "outputs": [],
   "source": [
    "import re\n",
    "import numpy as np\n",
    "import pandas as pd\n",
    "from pprint import pprint\n",
    "\n",
    "# Gensim\n",
    "import gensim\n",
    "import gensim.corpora as corpora\n",
    "from gensim.utils import simple_preprocess\n",
    "from gensim.models import CoherenceModel\n",
    "\n",
    "# spacy for lemmatization\n",
    "import spacy\n",
    "\n",
    "# Plotting tools\n",
    "import pyLDAvis\n",
    "import pyLDAvis.gensim  # don't skip this\n",
    "import matplotlib.pyplot as plt\n",
    "%matplotlib inline\n",
    "\n",
    "# Enable logging for gensim - optional\n",
    "import logging\n",
    "logging.basicConfig(format='%(asctime)s : %(levelname)s : %(message)s', level=logging.ERROR)\n",
    "\n",
    "import warnings\n",
    "warnings.filterwarnings(\"ignore\",category=DeprecationWarning)"
   ]
  },
  {
   "cell_type": "markdown",
   "id": "f2b3f623",
   "metadata": {},
   "source": [
    "### Prepare Stopwords"
   ]
  },
  {
   "cell_type": "code",
   "execution_count": 9,
   "id": "d4b010ff",
   "metadata": {},
   "outputs": [],
   "source": [
    "# NLTK Stop words\n",
    "from nltk.corpus import stopwords\n",
    "stop_words = stopwords.words('english')\n",
    "stop_words.extend(['from', 'subject', 're', 'edu', 'use'])"
   ]
  },
  {
   "cell_type": "markdown",
   "id": "c960e56b",
   "metadata": {},
   "source": [
    "### Import Newsgroups Data"
   ]
  },
  {
   "cell_type": "code",
   "execution_count": 11,
   "id": "308230aa",
   "metadata": {},
   "outputs": [
    {
     "name": "stdout",
     "output_type": "stream",
     "text": [
      "['rec.autos' 'comp.sys.mac.hardware' 'comp.graphics' 'sci.space'\n",
      " 'talk.politics.guns' 'sci.med' 'comp.sys.ibm.pc.hardware'\n",
      " 'comp.os.ms-windows.misc' 'rec.motorcycles' 'talk.religion.misc'\n",
      " 'misc.forsale' 'alt.atheism' 'sci.electronics' 'comp.windows.x'\n",
      " 'rec.sport.hockey' 'rec.sport.baseball' 'soc.religion.christian'\n",
      " 'talk.politics.mideast' 'talk.politics.misc' 'sci.crypt']\n"
     ]
    },
    {
     "data": {
      "text/html": [
       "<div>\n",
       "<style scoped>\n",
       "    .dataframe tbody tr th:only-of-type {\n",
       "        vertical-align: middle;\n",
       "    }\n",
       "\n",
       "    .dataframe tbody tr th {\n",
       "        vertical-align: top;\n",
       "    }\n",
       "\n",
       "    .dataframe thead th {\n",
       "        text-align: right;\n",
       "    }\n",
       "</style>\n",
       "<table border=\"1\" class=\"dataframe\">\n",
       "  <thead>\n",
       "    <tr style=\"text-align: right;\">\n",
       "      <th></th>\n",
       "      <th>content</th>\n",
       "      <th>target</th>\n",
       "      <th>target_names</th>\n",
       "    </tr>\n",
       "  </thead>\n",
       "  <tbody>\n",
       "    <tr>\n",
       "      <th>0</th>\n",
       "      <td>From: lerxst@wam.umd.edu (where's my thing)\\nS...</td>\n",
       "      <td>7</td>\n",
       "      <td>rec.autos</td>\n",
       "    </tr>\n",
       "    <tr>\n",
       "      <th>1</th>\n",
       "      <td>From: guykuo@carson.u.washington.edu (Guy Kuo)...</td>\n",
       "      <td>4</td>\n",
       "      <td>comp.sys.mac.hardware</td>\n",
       "    </tr>\n",
       "    <tr>\n",
       "      <th>2</th>\n",
       "      <td>From: twillis@ec.ecn.purdue.edu (Thomas E Will...</td>\n",
       "      <td>4</td>\n",
       "      <td>comp.sys.mac.hardware</td>\n",
       "    </tr>\n",
       "    <tr>\n",
       "      <th>3</th>\n",
       "      <td>From: jgreen@amber (Joe Green)\\nSubject: Re: W...</td>\n",
       "      <td>1</td>\n",
       "      <td>comp.graphics</td>\n",
       "    </tr>\n",
       "    <tr>\n",
       "      <th>4</th>\n",
       "      <td>From: jcm@head-cfa.harvard.edu (Jonathan McDow...</td>\n",
       "      <td>14</td>\n",
       "      <td>sci.space</td>\n",
       "    </tr>\n",
       "  </tbody>\n",
       "</table>\n",
       "</div>"
      ],
      "text/plain": [
       "                                             content  target   \n",
       "0  From: lerxst@wam.umd.edu (where's my thing)\\nS...       7  \\\n",
       "1  From: guykuo@carson.u.washington.edu (Guy Kuo)...       4   \n",
       "2  From: twillis@ec.ecn.purdue.edu (Thomas E Will...       4   \n",
       "3  From: jgreen@amber (Joe Green)\\nSubject: Re: W...       1   \n",
       "4  From: jcm@head-cfa.harvard.edu (Jonathan McDow...      14   \n",
       "\n",
       "            target_names  \n",
       "0              rec.autos  \n",
       "1  comp.sys.mac.hardware  \n",
       "2  comp.sys.mac.hardware  \n",
       "3          comp.graphics  \n",
       "4              sci.space  "
      ]
     },
     "execution_count": 11,
     "metadata": {},
     "output_type": "execute_result"
    }
   ],
   "source": [
    "# Import Dataset\n",
    "df = pd.read_json('https://raw.githubusercontent.com/selva86/datasets/master/newsgroups.json')\n",
    "\n",
    "print(df.target_names.unique())\n",
    "\n",
    "df.head()"
   ]
  },
  {
   "cell_type": "markdown",
   "id": "3b5e73ac",
   "metadata": {},
   "source": [
    "###  Remove emails and newline characters"
   ]
  },
  {
   "cell_type": "code",
   "execution_count": 13,
   "id": "0a55a08e",
   "metadata": {},
   "outputs": [
    {
     "name": "stdout",
     "output_type": "stream",
     "text": [
      "['From: (wheres my thing) Subject: WHAT car is this!? Nntp-Posting-Host: '\n",
      " 'rac3.wam.umd.edu Organization: University of Maryland, College Park Lines: '\n",
      " '15 I was wondering if anyone out there could enlighten me on this car I saw '\n",
      " 'the other day. It was a 2-door sports car, looked to be from the late 60s/ '\n",
      " 'early 70s. It was called a Bricklin. The doors were really small. In '\n",
      " 'addition, the front bumper was separate from the rest of the body. This is '\n",
      " 'all I know. If anyone can tellme a model name, engine specs, years of '\n",
      " 'production, where this car is made, history, or whatever info you have on '\n",
      " 'this funky looking car, please e-mail. Thanks, - IL ---- brought to you by '\n",
      " 'your neighborhood Lerxst ---- ']\n"
     ]
    }
   ],
   "source": [
    "# Convert to list\n",
    "data = df.content.values.tolist()\n",
    "\n",
    "# Remove Emails\n",
    "data = [re.sub('\\S*@\\S*\\s?', '', sent) for sent in data]\n",
    "\n",
    "# Remove new line characters\n",
    "data = [re.sub('\\s+', ' ', sent) for sent in data]\n",
    "\n",
    "# Remove distracting single quotes\n",
    "data = [re.sub(\"\\'\", \"\", sent) for sent in data]\n",
    "\n",
    "pprint(data[:1])"
   ]
  },
  {
   "cell_type": "markdown",
   "id": "ca6bb99a",
   "metadata": {},
   "source": [
    "### Tokenize words and Clean-up text"
   ]
  },
  {
   "cell_type": "code",
   "execution_count": 15,
   "id": "d0657889",
   "metadata": {},
   "outputs": [
    {
     "name": "stdout",
     "output_type": "stream",
     "text": [
      "[['from', 'wheres', 'my', 'thing', 'subject', 'what', 'car', 'is', 'this', 'nntp', 'posting', 'host', 'rac', 'wam', 'umd', 'edu', 'organization', 'university', 'of', 'maryland', 'college', 'park', 'lines', 'was', 'wondering', 'if', 'anyone', 'out', 'there', 'could', 'enlighten', 'me', 'on', 'this', 'car', 'saw', 'the', 'other', 'day', 'it', 'was', 'door', 'sports', 'car', 'looked', 'to', 'be', 'from', 'the', 'late', 'early', 'it', 'was', 'called', 'bricklin', 'the', 'doors', 'were', 'really', 'small', 'in', 'addition', 'the', 'front', 'bumper', 'was', 'separate', 'from', 'the', 'rest', 'of', 'the', 'body', 'this', 'is', 'all', 'know', 'if', 'anyone', 'can', 'tellme', 'model', 'name', 'engine', 'specs', 'years', 'of', 'production', 'where', 'this', 'car', 'is', 'made', 'history', 'or', 'whatever', 'info', 'you', 'have', 'on', 'this', 'funky', 'looking', 'car', 'please', 'mail', 'thanks', 'il', 'brought', 'to', 'you', 'by', 'your', 'neighborhood', 'lerxst']]\n"
     ]
    }
   ],
   "source": [
    "def sent_to_words(sentences):\n",
    "    for sentence in sentences:\n",
    "        yield(gensim.utils.simple_preprocess(str(sentence), deacc=True))  # deacc=True removes punctuations\n",
    "\n",
    "data_words = list(sent_to_words(data))\n",
    "\n",
    "print(data_words[:1])"
   ]
  },
  {
   "cell_type": "markdown",
   "id": "3fb2f3fd",
   "metadata": {},
   "source": [
    "### Creating Bigram and Trigram Models"
   ]
  },
  {
   "cell_type": "markdown",
   "id": "5da6adc0",
   "metadata": {},
   "source": [
    "Bigrams are two words frequently occurring together in the document. Trigrams are 3 words frequently occurring."
   ]
  },
  {
   "cell_type": "code",
   "execution_count": 18,
   "id": "9c17437c",
   "metadata": {},
   "outputs": [
    {
     "name": "stdout",
     "output_type": "stream",
     "text": [
      "['from', 'wheres', 'my', 'thing', 'subject', 'what', 'car', 'is', 'this', 'nntp_posting_host', 'rac_wam_umd_edu', 'organization', 'university', 'of', 'maryland_college_park', 'lines', 'was', 'wondering', 'if', 'anyone', 'out', 'there', 'could', 'enlighten', 'me', 'on', 'this', 'car', 'saw', 'the', 'other', 'day', 'it', 'was', 'door', 'sports', 'car', 'looked', 'to', 'be', 'from', 'the', 'late', 'early', 'it', 'was', 'called', 'bricklin', 'the', 'doors', 'were', 'really', 'small', 'in', 'addition', 'the', 'front_bumper', 'was', 'separate', 'from', 'the', 'rest', 'of', 'the', 'body', 'this', 'is', 'all', 'know', 'if', 'anyone', 'can', 'tellme', 'model', 'name', 'engine', 'specs', 'years', 'of', 'production', 'where', 'this', 'car', 'is', 'made', 'history', 'or', 'whatever', 'info', 'you', 'have', 'on', 'this', 'funky', 'looking', 'car', 'please', 'mail', 'thanks', 'il', 'brought', 'to', 'you', 'by', 'your', 'neighborhood', 'lerxst']\n"
     ]
    }
   ],
   "source": [
    "# Build the bigram and trigram models\n",
    "bigram = gensim.models.Phrases(data_words, min_count=5, threshold=100) # higher threshold fewer phrases.\n",
    "trigram = gensim.models.Phrases(bigram[data_words], threshold=100)  \n",
    "\n",
    "\n",
    "# Faster way to get a sentence clubbed as a trigram/bigram\n",
    "bigram_mod = gensim.models.phrases.Phraser(bigram)\n",
    "trigram_mod = gensim.models.phrases.Phraser(trigram)\n",
    "\n",
    "# See trigram example\n",
    "print(trigram_mod[bigram_mod[data_words[0]]])"
   ]
  },
  {
   "cell_type": "markdown",
   "id": "a543cb6e",
   "metadata": {},
   "source": [
    "### Remove Stopwords, Make Bigrams and Lemmatize"
   ]
  },
  {
   "cell_type": "code",
   "execution_count": 20,
   "id": "cead2b03",
   "metadata": {},
   "outputs": [],
   "source": [
    "# Define functions for stopwords, bigrams, trigrams and lemmatization\n",
    "def remove_stopwords(texts):\n",
    "    return [[word for word in simple_preprocess(str(doc)) if word not in stop_words] for doc in texts]\n",
    "\n",
    "def make_bigrams(texts):\n",
    "    return [bigram_mod[doc] for doc in texts]\n",
    "\n",
    "def make_trigrams(texts):\n",
    "    return [trigram_mod[bigram_mod[doc]] for doc in texts]\n",
    "\n",
    "def lemmatization(texts, allowed_postags=['NOUN', 'ADJ', 'VERB', 'ADV']):\n",
    "    texts_out = []\n",
    "    for sent in texts:\n",
    "        doc = nlp(\" \".join(sent)) \n",
    "        texts_out.append([token.lemma_ for token in doc if token.pos_ in allowed_postags])\n",
    "    return texts_out"
   ]
  },
  {
   "cell_type": "markdown",
   "id": "bdb4ed29",
   "metadata": {},
   "source": [
    "### Let’s call the functions in order."
   ]
  },
  {
   "cell_type": "code",
   "execution_count": 23,
   "id": "3ea6e7b1",
   "metadata": {},
   "outputs": [
    {
     "name": "stdout",
     "output_type": "stream",
     "text": [
      "[['s', 'thing', 'car', 'nntp_poste', 'host', 'rac_wam', 'university', 'park', 'line', 'wonder', 'enlighten', 'car', 'see', 'day', 'door', 'sport', 'car', 'look', 'late', 'early', 'call', 'door', 'really', 'small', 'addition', 'separate', 'rest', 'body', 'know', 'model', 'name', 'engine', 'spec', 'year', 'production', 'car', 'make', 'history', 'info', 'funky', 'look', 'car', 'mail', 'thank', 'bring', 'neighborhood', 'lerxst']]\n"
     ]
    }
   ],
   "source": [
    "# Remove Stop Words\n",
    "data_words_nostops = remove_stopwords(data_words)\n",
    "\n",
    "# Form Bigrams\n",
    "data_words_bigrams = make_bigrams(data_words_nostops)\n",
    "\n",
    "# nlp = spacy.load('en', disable=['parser', 'ner'])\n",
    "nlp = spacy.load('en_core_web_sm' , disable=['parser', 'ner'])\n",
    "\n",
    "# Do lemmatization keeping only noun, adj, vb, adv\n",
    "data_lemmatized = lemmatization(data_words_bigrams, allowed_postags=['NOUN', 'ADJ', 'VERB', 'ADV'])\n",
    "\n",
    "print(data_lemmatized[:1])"
   ]
  },
  {
   "cell_type": "markdown",
   "id": "ac8d9d66",
   "metadata": {},
   "source": [
    "### Create the Dictionary and Corpus needed for Topic Modeling"
   ]
  },
  {
   "cell_type": "code",
   "execution_count": 25,
   "id": "92f7defe",
   "metadata": {},
   "outputs": [
    {
     "name": "stdout",
     "output_type": "stream",
     "text": [
      "[[(0, 1), (1, 1), (2, 1), (3, 1), (4, 5), (5, 1), (6, 2), (7, 1), (8, 1), (9, 1), (10, 1), (11, 1), (12, 1), (13, 1), (14, 1), (15, 1), (16, 1), (17, 1), (18, 2), (19, 1), (20, 1), (21, 1), (22, 1), (23, 1), (24, 1), (25, 1), (26, 1), (27, 1), (28, 1), (29, 1), (30, 1), (31, 1), (32, 1), (33, 1), (34, 1), (35, 1), (36, 1), (37, 1), (38, 1), (39, 1), (40, 1)]]\n"
     ]
    }
   ],
   "source": [
    "# Create Dictionary\n",
    "id2word = corpora.Dictionary(data_lemmatized)\n",
    "\n",
    "# Create Corpus\n",
    "texts = data_lemmatized\n",
    "\n",
    "# Term Document Frequency\n",
    "corpus = [id2word.doc2bow(text) for text in texts]\n",
    "\n",
    "# View\n",
    "print(corpus[:1])"
   ]
  },
  {
   "cell_type": "code",
   "execution_count": 26,
   "id": "508fa5a5",
   "metadata": {},
   "outputs": [
    {
     "data": {
      "text/plain": [
       "[[('addition', 1),\n",
       "  ('body', 1),\n",
       "  ('bring', 1),\n",
       "  ('call', 1),\n",
       "  ('car', 5),\n",
       "  ('day', 1),\n",
       "  ('door', 2),\n",
       "  ('early', 1),\n",
       "  ('engine', 1),\n",
       "  ('enlighten', 1),\n",
       "  ('funky', 1),\n",
       "  ('history', 1),\n",
       "  ('host', 1),\n",
       "  ('info', 1),\n",
       "  ('know', 1),\n",
       "  ('late', 1),\n",
       "  ('lerxst', 1),\n",
       "  ('line', 1),\n",
       "  ('look', 2),\n",
       "  ('mail', 1),\n",
       "  ('make', 1),\n",
       "  ('model', 1),\n",
       "  ('name', 1),\n",
       "  ('neighborhood', 1),\n",
       "  ('nntp_poste', 1),\n",
       "  ('park', 1),\n",
       "  ('production', 1),\n",
       "  ('rac_wam', 1),\n",
       "  ('really', 1),\n",
       "  ('rest', 1),\n",
       "  ('s', 1),\n",
       "  ('see', 1),\n",
       "  ('separate', 1),\n",
       "  ('small', 1),\n",
       "  ('spec', 1),\n",
       "  ('sport', 1),\n",
       "  ('thank', 1),\n",
       "  ('thing', 1),\n",
       "  ('university', 1),\n",
       "  ('wonder', 1),\n",
       "  ('year', 1)]]"
      ]
     },
     "execution_count": 26,
     "metadata": {},
     "output_type": "execute_result"
    }
   ],
   "source": [
    "# Human readable format of corpus (term-frequency)\n",
    "[[(id2word[id], freq) for id, freq in cp] for cp in corpus[:1]]"
   ]
  },
  {
   "cell_type": "markdown",
   "id": "2eba34dd",
   "metadata": {},
   "source": [
    "### Building the Topic Model"
   ]
  },
  {
   "cell_type": "code",
   "execution_count": 28,
   "id": "59c3663b",
   "metadata": {},
   "outputs": [],
   "source": [
    "# Build LDA model\n",
    "lda_model = gensim.models.ldamodel.LdaModel(corpus=corpus,\n",
    "                                           id2word=id2word,\n",
    "                                           num_topics=20, \n",
    "                                           random_state=100,\n",
    "                                           update_every=1,\n",
    "                                           chunksize=100,\n",
    "                                           passes=10,\n",
    "                                           alpha='auto',\n",
    "                                           per_word_topics=True)"
   ]
  },
  {
   "cell_type": "markdown",
   "id": "cc67060e",
   "metadata": {},
   "source": [
    "### View the topics in LDA model"
   ]
  },
  {
   "cell_type": "code",
   "execution_count": 30,
   "id": "6a929e3d",
   "metadata": {},
   "outputs": [
    {
     "name": "stdout",
     "output_type": "stream",
     "text": [
      "[(0,\n",
      "  '0.021*\"research\" + 0.019*\"information\" + 0.019*\"high\" + 0.019*\"report\" + '\n",
      "  '0.018*\"player\" + 0.016*\"service\" + 0.015*\"rate\" + 0.014*\"design\" + '\n",
      "  '0.013*\"season\" + 0.012*\"low\"'),\n",
      " (1,\n",
      "  '0.077*\"team\" + 0.072*\"game\" + 0.053*\"play\" + 0.050*\"faith\" + 0.049*\"win\" + '\n",
      "  '0.031*\"belief\" + 0.025*\"atheist\" + 0.025*\"year\" + 0.018*\"wing\" + '\n",
      "  '0.018*\"score\"'),\n",
      " (2,\n",
      "  '0.106*\"space\" + 0.029*\"notice\" + 0.029*\"launch\" + 0.026*\"earth\" + '\n",
      "  '0.024*\"mission\" + 0.024*\"orbit\" + 0.023*\"external\" + 0.020*\"vehicle\" + '\n",
      "  '0.019*\"satellite\" + 0.019*\"door\"'),\n",
      " (3,\n",
      "  '0.022*\"say\" + 0.019*\"people\" + 0.017*\"reason\" + 0.017*\"believe\" + '\n",
      "  '0.015*\"evidence\" + 0.014*\"mean\" + 0.012*\"point\" + 0.012*\"question\" + '\n",
      "  '0.011*\"many\" + 0.010*\"claim\"'),\n",
      " (4,\n",
      "  '0.078*\"book\" + 0.044*\"science\" + 0.042*\"reference\" + 0.036*\"pin\" + '\n",
      "  '0.032*\"section\" + 0.025*\"faq\" + 0.024*\"author\" + 0.023*\"copy\" + '\n",
      "  '0.023*\"reality\" + 0.022*\"internal\"'),\n",
      " (5,\n",
      "  '0.065*\"cost\" + 0.059*\"model\" + 0.039*\"character\" + 0.036*\"picture\" + '\n",
      "  '0.036*\"format\" + 0.032*\"quality\" + 0.032*\"associate\" + 0.028*\"handle\" + '\n",
      "  '0.023*\"hole\" + 0.023*\"gift\"'),\n",
      " (6,\n",
      "  '0.032*\"system\" + 0.028*\"use\" + 0.024*\"program\" + 0.023*\"file\" + '\n",
      "  '0.018*\"card\" + 0.016*\"run\" + 0.014*\"software\" + 0.014*\"bit\" + '\n",
      "  '0.013*\"machine\" + 0.013*\"problem\"'),\n",
      " (7,\n",
      "  '0.092*\"moral\" + 0.056*\"property\" + 0.045*\"serial\" + 0.036*\"lock\" + '\n",
      "  '0.022*\"positively\" + 0.021*\"intent\" + 0.018*\"alarm\" + 0.012*\"converter\" + '\n",
      "  '0.011*\"unnecessary\" + 0.007*\"provision\"'),\n",
      " (8,\n",
      "  '0.249*\"window\" + 0.057*\"monitor\" + 0.055*\"normal\" + 0.041*\"do\" + '\n",
      "  '0.032*\"font\" + 0.023*\"left\" + 0.020*\"widget\" + 0.019*\"please_respond\" + '\n",
      "  '0.017*\"environment\" + 0.017*\"trivial\"'),\n",
      " (9,\n",
      "  '0.061*\"child\" + 0.028*\"church\" + 0.027*\"woman\" + 0.025*\"armenian\" + '\n",
      "  '0.022*\"authority\" + 0.020*\"community\" + 0.019*\"greek\" + 0.017*\"period\" + '\n",
      "  '0.017*\"turk\" + 0.016*\"soldier\"'),\n",
      " (10,\n",
      "  '0.765*\"ax\" + 0.035*\"physical\" + 0.024*\"graphic\" + 0.014*\"direct\" + '\n",
      "  '0.011*\"convert\" + 0.006*\"daughter\" + 0.006*\"capture\" + 0.005*\"human_being\" '\n",
      "  '+ 0.004*\"split\" + 0.003*\"accomplish\"'),\n",
      " (11,\n",
      "  '0.130*\"line\" + 0.076*\"organization\" + 0.074*\"write\" + 0.063*\"article\" + '\n",
      "  '0.056*\"nntp_poste\" + 0.050*\"host\" + 0.029*\"reply\" + 0.024*\"thank\" + '\n",
      "  '0.018*\"university\" + 0.013*\"post\"'),\n",
      " (12,\n",
      "  '0.072*\"plane\" + 0.030*\"hi\" + 0.021*\"subscription\" + 0.020*\"steve\" + '\n",
      "  '0.015*\"divide\" + 0.011*\"evolve\" + 0.010*\"intersection\" + 0.010*\"rip\" + '\n",
      "  '0.008*\"upcoming\" + 0.007*\"script\"'),\n",
      " (13,\n",
      "  '0.031*\"people\" + 0.028*\"state\" + 0.018*\"gun\" + 0.017*\"government\" + '\n",
      "  '0.017*\"law\" + 0.016*\"right\" + 0.015*\"kill\" + 0.013*\"death\" + 0.011*\"live\" + '\n",
      "  '0.011*\"force\"'),\n",
      " (14,\n",
      "  '0.141*\"drug\" + 0.029*\"film\" + 0.026*\"movie\" + 0.025*\"stereo\" + '\n",
      "  '0.024*\"japanese\" + 0.022*\"deficit\" + 0.020*\"plot\" + 0.014*\"mad\" + '\n",
      "  '0.009*\"harley\" + 0.007*\"deck\"'),\n",
      " (15,\n",
      "  '0.061*\"box\" + 0.050*\"club\" + 0.041*\"modem\" + 0.041*\"status\" + '\n",
      "  '0.030*\"primary\" + 0.029*\"routine\" + 0.029*\"spec\" + 0.026*\"sufficient\" + '\n",
      "  '0.023*\"public_access\" + 0.023*\"automatically\"'),\n",
      " (16,\n",
      "  '0.152*\"drive\" + 0.091*\"car\" + 0.036*\"bike\" + 0.024*\"engine\" + 0.023*\"nhl\" + '\n",
      "  '0.022*\"ride\" + 0.018*\"road\" + 0.017*\"weight\" + 0.016*\"mile\" + '\n",
      "  '0.015*\"ground\"'),\n",
      " (17,\n",
      "  '0.113*\"patient\" + 0.060*\"disease\" + 0.054*\"scientific\" + '\n",
      "  '0.050*\"computer_science\" + 0.043*\"animal\" + 0.041*\"health\" + '\n",
      "  '0.040*\"treatment\" + 0.037*\"medical\" + 0.033*\"dog\" + 0.030*\"study\"'),\n",
      " (18,\n",
      "  '0.023*\"get\" + 0.018*\"go\" + 0.015*\"good\" + 0.015*\"time\" + 0.015*\"know\" + '\n",
      "  '0.014*\"make\" + 0.013*\"well\" + 0.013*\"think\" + 0.012*\"see\" + 0.010*\"take\"'),\n",
      " (19,\n",
      "  '0.106*\"key\" + 0.043*\"test\" + 0.032*\"public\" + 0.031*\"encryption\" + '\n",
      "  '0.028*\"security\" + 0.028*\"server\" + 0.022*\"clipper\" + 0.021*\"chip\" + '\n",
      "  '0.018*\"secure\" + 0.018*\"message\"')]\n"
     ]
    }
   ],
   "source": [
    "# Print the Keyword in the 10 topics\n",
    "pprint(lda_model.print_topics())\n",
    "doc_lda = lda_model[corpus]"
   ]
  },
  {
   "cell_type": "markdown",
   "id": "3b0c4faf",
   "metadata": {},
   "source": [
    "### Compute Model Perplexity and Coherence Score"
   ]
  },
  {
   "cell_type": "code",
   "execution_count": 32,
   "id": "5e17d532",
   "metadata": {},
   "outputs": [
    {
     "name": "stdout",
     "output_type": "stream",
     "text": [
      "\n",
      "Perplexity:  -13.32461339253533\n",
      "\n",
      "Coherence Score:  0.483541481988623\n"
     ]
    }
   ],
   "source": [
    "# Compute Perplexity\n",
    "print('\\nPerplexity: ', lda_model.log_perplexity(corpus))  # a measure of how good the model is. lower the better.\n",
    "\n",
    "# Compute Coherence Score\n",
    "coherence_model_lda = CoherenceModel(model=lda_model, texts=data_lemmatized, dictionary=id2word, coherence='c_v')\n",
    "coherence_lda = coherence_model_lda.get_coherence()\n",
    "print('\\nCoherence Score: ', coherence_lda)"
   ]
  },
  {
   "cell_type": "markdown",
   "id": "e4462345",
   "metadata": {},
   "source": [
    "There you have a coherence score of 0.53."
   ]
  },
  {
   "cell_type": "markdown",
   "id": "efaf4909",
   "metadata": {},
   "source": [
    "### Visualize the topics-keywords"
   ]
  },
  {
   "cell_type": "code",
   "execution_count": 35,
   "id": "9a180330",
   "metadata": {},
   "outputs": [
    {
     "data": {
      "text/html": [
       "\n",
       "<link rel=\"stylesheet\" type=\"text/css\" href=\"https://cdn.jsdelivr.net/gh/bmabey/pyLDAvis@3.4.0/pyLDAvis/js/ldavis.v1.0.0.css\">\n",
       "\n",
       "\n",
       "<div id=\"ldavis_el456414993484481922196306946\" style=\"background-color:white;\"></div>\n",
       "<script type=\"text/javascript\">\n",
       "\n",
       "var ldavis_el456414993484481922196306946_data = {\"mdsDat\": {\"x\": [0.336523992688148, 0.3169287703387265, 0.2167863023013558, 0.2470913291390682, 0.1841075412970804, -0.019302015035057803, 0.15391615837601103, -0.008545483834332873, 0.006922533616166788, 0.0383722354611286, -0.03756242974095156, -0.0460363106917515, -0.0819063880173692, -0.11857839132728998, -0.16268370738939053, -0.17594394483080397, -0.2042590727301137, -0.21220189254507366, -0.2140819612761965, -0.21954726579935252], \"y\": [-0.053715747835775256, -0.11890457186813339, 0.28523815224167975, 0.16700471069529502, -0.27964478982637214, 0.03963772483843489, 0.027982519957204476, -0.11770195111396932, -0.062095894877234735, 0.06950845354561463, 0.037040006628719827, -0.03808909515554282, 0.028035184047243998, 0.023845076775263152, 0.013118428941357708, -0.007819880153637607, -0.0017774787822560712, -0.0032627705886847623, -0.0036313078929035326, -0.004766769576303363], \"topics\": [1, 2, 3, 4, 5, 6, 7, 8, 9, 10, 11, 12, 13, 14, 15, 16, 17, 18, 19, 20], \"cluster\": [1, 1, 1, 1, 1, 1, 1, 1, 1, 1, 1, 1, 1, 1, 1, 1, 1, 1, 1, 1], \"Freq\": [34.41376756549582, 15.585695637968474, 9.18168217304052, 9.110719987231642, 7.614202677243978, 5.391938623986523, 5.120650030910103, 2.1405079921338857, 2.065611363103298, 1.847952182914789, 1.7323115134601528, 1.606860626739809, 1.237492745387537, 1.1442853929286794, 0.6192243416416883, 0.43367317260486793, 0.29485299316692165, 0.2004500387166239, 0.15895487484859053, 0.09916606647610271]}, \"tinfo\": {\"Term\": [\"ax\", \"line\", \"write\", \"organization\", \"article\", \"nntp_poste\", \"host\", \"drive\", \"people\", \"year\", \"window\", \"key\", \"system\", \"do\", \"get\", \"use\", \"go\", \"car\", \"say\", \"team\", \"reply\", \"game\", \"space\", \"book\", \"state\", \"physical\", \"thank\", \"run\", \"time\", \"child\", \"go\", \"s\", \"ve\", \"back\", \"long\", \"re\", \"start\", \"bad\", \"still\", \"hear\", \"little\", \"lot\", \"probably\", \"put\", \"big\", \"maybe\", \"money\", \"remember\", \"week\", \"hard\", \"ill\", \"home\", \"move\", \"guess\", \"couple\", \"pretty\", \"cheap\", \"guy\", \"school\", \"soon\", \"time\", \"good\", \"really\", \"end\", \"day\", \"get\", \"great\", \"much\", \"let\", \"well\", \"sure\", \"take\", \"first\", \"want\", \"come\", \"see\", \"know\", \"make\", \"think\", \"tell\", \"m\", \"try\", \"work\", \"year\", \"look\", \"way\", \"say\", \"thing\", \"give\", \"also\", \"write\", \"even\", \"reason\", \"believe\", \"evidence\", \"claim\", \"talk\", \"sense\", \"true\", \"word\", \"rule\", \"matter\", \"argument\", \"religion\", \"love\", \"accept\", \"understand\", \"explain\", \"god\", \"prove\", \"speak\", \"discussion\", \"truth\", \"clear\", \"purpose\", \"certainly\", \"statement\", \"christian\", \"master\", \"indeed\", \"doubt\", \"therefore\", \"religious\", \"human\", \"exist\", \"apply\", \"mean\", \"life\", \"fact\", \"view\", \"rather\", \"question\", \"say\", \"point\", \"however\", \"people\", \"case\", \"many\", \"group\", \"man\", \"agree\", \"follow\", \"example\", \"issue\", \"world\", \"think\", \"make\", \"different\", \"read\", \"thing\", \"write\", \"also\", \"nntp_poste\", \"host\", \"thank\", \"university\", \"price\", \"com\", \"sale\", \"internet\", \"cpu\", \"appreciate\", \"bus\", \"version_pl\", \"controller\", \"originator\", \"printer\", \"apr\", \"upgrade\", \"corporation\", \"resource\", \"crash\", \"cycle\", \"northern\", \"bio\", \"ram\", \"opinions_expresse\", \"clock\", \"laboratory\", \"cool\", \"bug\", \"floppy\", \"reply\", \"organization\", \"line\", \"keyword\", \"interested\", \"sell\", \"distribution_world\", \"article\", \"dealer\", \"write\", \"buy\", \"phone\", \"mail\", \"post\", \"email\", \"help\", \"technology\", \"need\", \"new\", \"m\", \"message\", \"question\", \"look\", \"use\", \"know\", \"file\", \"software\", \"machine\", \"code\", \"entry\", \"version\", \"memory\", \"hardware\", \"screen\", \"disk\", \"mode\", \"pc\", \"video\", \"display\", \"device\", \"fax\", \"package\", \"scan\", \"scsi\", \"port\", \"apple\", \"ide\", \"mhz\", \"gateway\", \"mac\", \"manager\", \"mouse\", \"unix\", \"directory\", \"interface\", \"card\", \"program\", \"input\", \"image\", \"instal\", \"driver\", \"user\", \"application\", \"system\", \"type\", \"available\", \"address\", \"bit\", \"use\", \"run\", \"set\", \"computer\", \"source\", \"include\", \"support\", \"problem\", \"work\", \"also\", \"chip\", \"need\", \"gun\", \"kill\", \"death\", \"force\", \"die\", \"country\", \"member\", \"israeli\", \"war\", \"risk\", \"publish\", \"city\", \"crime\", \"state\", \"serious\", \"military\", \"police\", \"weapon\", \"land\", \"headache\", \"convince\", \"firearm\", \"proof\", \"trial\", \"blank\", \"library\", \"arab\", \"doctor\", \"occupy\", \"withdraw\", \"jewish\", \"fight\", \"suggest\", \"attack\", \"law\", \"government\", \"fire\", \"meet\", \"self\", \"field\", \"people\", \"murder\", \"live\", \"right\", \"public\", \"black\", \"carry\", \"conclusion\", \"ax\", \"physical\", \"graphic\", \"direct\", \"convert\", \"daughter\", \"capture\", \"human_being\", \"split\", \"accomplish\", \"pp\", \"discount\", \"tour\", \"applicable\", \"good_luck\", \"sister\", \"shareware\", \"genesis\", \"sabbath\", \"ceremonial\", \"tc\", \"oracle\", \"seventh\", \"workshop\", \"birthday\", \"everytime\", \"moral_agency\", \"max\", \"ei\", \"fq\", \"part\", \"end\", \"research\", \"player\", \"season\", \"tape\", \"goal\", \"trade\", \"national\", \"family\", \"possibility\", \"unit\", \"material\", \"pen\", \"signal\", \"site\", \"technical\", \"development\", \"radio\", \"communication\", \"factor\", \"electronic\", \"operation\", \"particularly\", \"circuit\", \"dept\", \"lab\", \"surface\", \"facility\", \"cap\", \"improve\", \"blue\", \"feature\", \"service\", \"rate\", \"design\", \"report\", \"contact\", \"increase\", \"level\", \"information\", \"low\", \"high\", \"center\", \"include\", \"control\", \"year\", \"number\", \"block\", \"complete\", \"point\", \"new\", \"child\", \"church\", \"woman\", \"armenian\", \"authority\", \"greek\", \"period\", \"turk\", \"turkish\", \"terrorism\", \"boy\", \"parent\", \"united_state\", \"male\", \"muslim\", \"percent\", \"somehow\", \"violence\", \"russian\", \"inhabitant\", \"role\", \"escape\", \"unknown\", \"serdar_argic\", \"closed\", \"proceed\", \"informed\", \"investigation\", \"violate\", \"reflect\", \"community\", \"aware\", \"soldier\", \"girl\", \"young\", \"village\", \"mother\", \"today\", \"man\", \"team\", \"game\", \"play\", \"faith\", \"win\", \"belief\", \"atheist\", \"wing\", \"score\", \"revelation\", \"fan\", \"atheism\", \"average\", \"bible\", \"universe\", \"interpretation\", \"pitch\", \"canadian\", \"stat\", \"offense\", \"production\", \"passage\", \"absolute\", \"origin\", \"birth\", \"hr\", \"handgun\", \"follower\", \"danger\", \"teaching\", \"star\", \"ice\", \"division\", \"defense\", \"year\", \"lose\", \"run\", \"final\", \"hit\", \"last\", \"pick\", \"key\", \"test\", \"encryption\", \"security\", \"server\", \"clipper\", \"secure\", \"motif\", \"tap\", \"clipper_chip\", \"agency\", \"pgp\", \"rsa\", \"dual\", \"crypto\", \"privacy\", \"export\", \"detailed\", \"warrant\", \"restriction\", \"cryptography\", \"cd\", \"second_amendment\", \"assure\", \"algorithm\", \"secrecy\", \"wiretap\", \"testing\", \"distribution_inet\", \"tavare\", \"secret\", \"license\", \"proposal\", \"public\", \"private\", \"chip\", \"message\", \"government\", \"technology\", \"use\", \"system\", \"information\", \"bit\", \"phone\", \"drive\", \"car\", \"bike\", \"engine\", \"nhl\", \"ride\", \"weight\", \"mile\", \"though\", \"rider\", \"auto\", \"oil\", \"quick\", \"noise\", \"travel\", \"corner\", \"spacecraft\", \"essentially\", \"wiring\", \"gear\", \"wind\", \"tire\", \"combination\", \"lift\", \"strip\", \"highway\", \"suitable\", \"sensor\", \"paint\", \"dirty\", \"road\", \"ground\", \"mirror\", \"light\", \"speed\", \"fast\", \"sport\", \"power\", \"front\", \"driver\", \"science\", \"reference\", \"pin\", \"section\", \"faq\", \"author\", \"internal\", \"object\", \"concept\", \"transfer\", \"processor\", \"generate\", \"cable\", \"gmt\", \"language\", \"blind\", \"description\", \"expansion\", \"modify\", \"connector\", \"radiation\", \"enable\", \"typically\", \"qualified\", \"button\", \"presence\", \"extension\", \"phase\", \"responce\", \"observe\", \"book\", \"panel\", \"reality\", \"define\", \"obtain\", \"copy\", \"operate\", \"describe\", \"cover\", \"function\", \"remove\", \"space\", \"notice\", \"launch\", \"mission\", \"orbit\", \"external\", \"vehicle\", \"satellite\", \"door\", \"moon\", \"flight\", \"rocket\", \"saturn\", \"planet\", \"energy\", \"fuel\", \"sky\", \"shuttle\", \"mar\", \"lunar\", \"park\", \"mph\", \"solar\", \"space_station\", \"ozone\", \"crew\", \"thermal\", \"environmental\", \"giant\", \"cbr\", \"earth\", \"observation\", \"environment\", \"cost\", \"fly\", \"model\", \"character\", \"picture\", \"format\", \"quality\", \"associate\", \"handle\", \"hole\", \"gift\", \"insurance\", \"excuse\", \"popular\", \"draft\", \"morality\", \"solid\", \"pub\", \"scale\", \"depth\", \"fee\", \"programmer\", \"hunt\", \"translate\", \"meter\", \"import\", \"runner\", \"sc\", \"leadership\", \"scare\", \"fish\", \"variation\", \"cost\", \"type\", \"license\", \"window\", \"monitor\", \"normal\", \"font\", \"left\", \"widget\", \"please_respond\", \"trivial\", \"impressive\", \"click\", \"upper\", \"publisher\", \"ms_window\", \"hassle\", \"dialog\", \"visualization\", \"judaism\", \"user_interface\", \"accessible\", \"enhanced_mode\", \"environment\", \"vendor\", \"do\", \"application\", \"routine\", \"size\", \"correctly\", \"value\", \"color\", \"window_manag\", \"create\", \"top\", \"position\", \"patient\", \"disease\", \"scientific\", \"computer_science\", \"animal\", \"health\", \"medical\", \"dog\", \"medicine\", \"luck\", \"km\", \"cure\", \"prevention\", \"television\", \"lemieux\", \"soviet_union\", \"adequately\", \"pitt\", \"treatment\", \"study\", \"treat\", \"dn\", \"diagnosis\", \"tumor\", \"eeg\", \"syndrome\", \"neurologist\", \"millie\", \"aunt\", \"gonorrhea\", \"department\", \"box\", \"club\", \"modem\", \"status\", \"primary\", \"spec\", \"sufficient\", \"public_access\", \"automatically\", \"investment\", \"campaign\", \"exposure\", \"galaxy\", \"global\", \"approval\", \"spectrum\", \"routine\", \"baud\", \"yehuda\", \"speedstar\", \"rating\", \"accelerator\", \"keyboard\", \"mixer\", \"enviroleague\", \"resident\", \"admiral\", \"transformer\", \"franchise\", \"taxpayer\", \"hockey\", \"color\", \"ripem\", \"fund\", \"connect\", \"slave\", \"moral\", \"property\", \"serial\", \"lock\", \"positively\", \"intent\", \"alarm\", \"converter\", \"unnecessary\", \"provision\", \"theft\", \"deter\", \"complexity\", \"flexible\", \"malfunction\", \"hudson\", \"seller\", \"serial_number\", \"specie\", \"lemon\", \"serial_port\", \"premise\", \"protocol\", \"selfish\", \"handshake\", \"steven_langlois\", \"freshman\", \"spoof_chip\", \"granted\", \"ofthe\", \"immoral\", \"evil\", \"marriage\", \"behavior\", \"item\", \"encrypt\", \"transmit\", \"compare\", \"drug\", \"film\", \"movie\", \"stereo\", \"japanese\", \"deficit\", \"plot\", \"mad\", \"harley\", \"deck\", \"legalization\", \"legalize\", \"dale_cook\", \"hypocrisy_t\", \"neighbor_political\", \"heroin\", \"fuck\", \"criminalization\", \"taxis\", \"convinced\", \"winco\", \"reagan_reagan\", \"addict\", \"vat\", \"advocate\", \"revenue\", \"carter\", \"cigarette\", \"pot\", \"dea\", \"illegal\", \"trend\", \"gonorrhea\", \"plane\", \"hi\", \"subscription\", \"steve\", \"divide\", \"evolve\", \"intersection\", \"rip\", \"upcoming\", \"script\", \"infinity\", \"tel_fax\", \"portal\", \"announce\", \"intersect\", \"offerre\", \"xterminal\", \"turkish_plane\", \"cargo\", \"colour\", \"elchibey\", \"architecture\", \"shipment\", \"refugee\", \"feal\", \"c\", \"calculation\", \"parallel\", \"confiscate\", \"azeri\", \"tv\", \"advertising\", \"logo\", \"circle\", \"_\"], \"Freq\": [53235.0, 17060.0, 13405.0, 9429.0, 9896.0, 6637.0, 5937.0, 3405.0, 7863.0, 5026.0, 1994.0, 2521.0, 5181.0, 2275.0, 10774.0, 6155.0, 7967.0, 2024.0, 8881.0, 2061.0, 3455.0, 1931.0, 1697.0, 1739.0, 2761.0, 2419.0, 2869.0, 3172.0, 6755.0, 1680.0, 7966.546332504106, 4229.1853905651715, 2985.380971486516, 2784.2975670762125, 2454.7514941999766, 2293.211227796786, 2271.453443560178, 2267.427448980648, 2790.912631678917, 2157.2824664395184, 2086.111270537677, 2052.4173750791256, 2023.4586299720884, 2020.9500095246801, 1541.9578886668705, 1514.6572527467333, 1430.340823657097, 1336.4619594531123, 1288.4314946083084, 1250.8946325253762, 1144.132151363273, 1141.7089439616007, 1108.2282709005167, 998.8119877943785, 930.8833854617798, 927.9779976336332, 879.0819243071618, 837.9587483595544, 780.6306702044341, 775.5203642476771, 6708.312072166009, 6800.921322113882, 3158.867069240342, 2266.4097308255205, 2838.799776328333, 10296.943463694684, 2047.8544984978255, 3725.8750588055327, 2179.584164260354, 5831.202816955105, 2706.5315740740443, 4534.6687678374155, 3669.086758009665, 4212.973870397698, 4295.494040386266, 5119.070617479217, 6514.591561833911, 6307.985883459329, 5798.868705457124, 3025.698203997722, 4182.133349738231, 3474.475304817927, 3593.5820392013934, 3548.827671348131, 3104.6812811988184, 3215.8344685776324, 4479.266102408213, 3254.1321892447377, 3015.2612675180094, 3139.3457418477806, 3105.0723612702154, 2859.5419105223004, 3433.49687726731, 3385.9554048522086, 2999.6085868015457, 2065.544817924047, 1711.6677821269275, 1686.5020289956396, 1587.0013744685796, 1354.668302447263, 1119.440855981383, 1059.3284958663712, 1055.3684236536944, 1045.5136696835718, 1038.0219398821723, 1033.7001411111853, 1031.9765543359326, 1021.1847019152937, 990.702074157118, 986.7309497088429, 938.2456351062499, 920.8917519566577, 912.3697290062648, 868.7585439655329, 865.5108726338783, 761.2721340721312, 696.3649301362241, 627.3796854220805, 590.901126188817, 576.1884463581764, 513.4435935844728, 495.07632345983194, 638.4471412600753, 718.1204597758503, 1725.7104904216817, 757.167680324075, 2739.619355781797, 1405.7124905799017, 1897.2704097674275, 1070.1919068293587, 1324.7045677841259, 2359.8935761586204, 4362.876371511403, 2423.384548498222, 1608.610742975569, 3871.1388066638983, 1963.1451058017462, 2247.0710438890474, 1663.6096645291125, 1485.7727310046305, 1142.557918017404, 1426.3398960528868, 1129.512627153889, 1297.712011236659, 1218.9745735522242, 2042.7193288491908, 2032.0245113105843, 1209.1485741272597, 1319.118973971378, 1403.0568631568642, 1535.116092474308, 1311.6555304000692, 6636.22140068542, 5936.155354881397, 2868.741568843061, 2139.352287217149, 1400.8720255833657, 1347.3449479910469, 1305.1375911322566, 951.3427681779464, 792.8241910210768, 707.0207078609315, 574.6952416525818, 546.5218003256737, 518.8964950249263, 504.87913282582525, 391.1751452074453, 382.79024760935573, 354.26460653864007, 338.14833692066173, 312.48324969897334, 305.10460161176354, 293.65551658255026, 272.6497235276678, 269.6228914508536, 257.48982271112203, 247.6115937850665, 232.1335379124665, 226.83380909480078, 224.35296111088573, 204.02257162236327, 202.62244935239934, 3382.118023985448, 8959.326717328824, 15394.064482779415, 774.7922593781088, 979.6435598117178, 1187.311520173596, 904.0740091102074, 7407.8600846353875, 368.0457526789536, 8763.900277625282, 1327.9804178814181, 838.5162451414087, 1545.1028694390418, 1580.1494752477984, 806.3703901914496, 1225.6780624049456, 764.8655567758924, 1517.614184311515, 1323.2873273268508, 1357.63174075903, 828.2887684825583, 1004.9550402563123, 983.5239920822813, 894.7228658887925, 876.0114199351572, 2692.7803305563953, 1657.480734125654, 1517.8494151187776, 1208.8718094115202, 1133.1155763779527, 1130.1532011793724, 1094.7968759476848, 944.8301492921922, 944.4156817608048, 942.4527372515173, 896.0698783938418, 896.0591471341123, 885.1579940427185, 845.4449963661739, 839.4184632555587, 786.2017082466022, 730.9240586076644, 630.7741939232722, 594.5202754670711, 523.0282946415072, 465.2188889762958, 451.65367328140275, 448.3253676011805, 422.9576825002699, 410.32028276137333, 401.21289258455255, 373.53223775266883, 369.2556117451814, 354.4143890419988, 352.50759201665295, 2082.4438755391907, 2776.6100844939706, 724.7855042857917, 1307.0719246559863, 741.7964672533543, 1417.3546718372638, 928.0278436247773, 882.9486685702549, 3788.17103937666, 1311.2883242058085, 1361.4148049206335, 1217.975202741605, 1647.9785321431746, 3255.8626688788077, 1882.0995785917337, 1387.6427702179678, 1289.7504669234966, 1206.540935997223, 1268.2630903629731, 1160.6773934585979, 1496.3082727569567, 1304.4741932829068, 1346.797296132015, 993.6680028182807, 1049.1935117061737, 1758.7862037159298, 1513.1155387009844, 1318.717457785116, 1041.8372306163737, 1031.9066616371, 909.6274710096685, 831.0277935932064, 781.9576301762218, 765.3911089286215, 686.9220704020325, 656.6688947411386, 650.1809693760487, 612.1063907568308, 2755.8943257252186, 598.2173490195762, 579.8630196927348, 565.9218596733207, 560.7196406226458, 550.2194311740091, 478.8741702064425, 467.0829465235219, 463.9362651999507, 450.04543890342984, 439.14603727431916, 425.8203214121006, 411.7705320670966, 409.31484124299095, 389.88716815441444, 387.6922517728262, 382.5055217814235, 591.7243902821969, 422.0532998328341, 829.353877001494, 867.7395637861224, 1650.0545633948868, 1717.0888325124997, 697.5496699275192, 488.92064402216084, 563.9870771232311, 583.8149033088096, 3073.2976841002196, 562.071375629911, 1078.0137245452843, 1608.2440785887366, 857.2853410570383, 608.3391403879149, 600.8841211743244, 566.8398095051052, 53234.66748298642, 2418.3399821019857, 1671.0815712304682, 960.8546811973864, 770.2457699286729, 397.21754522420804, 396.2995647358511, 351.70142851659386, 280.15241557850345, 228.02734160313327, 192.48231405461553, 187.64874012421643, 182.32153701063237, 169.45330078221895, 156.6330535796882, 153.60621300861868, 124.2648525600756, 111.76946287205325, 109.54961399062043, 105.67693038485454, 83.94677201504963, 64.85756946911052, 56.79387802284322, 31.73521207790025, 31.26707807731308, 27.106512971326715, 24.150566384054013, 0.14616541123523635, 0.14358604033219902, 0.14356887363836005, 13.862045088715542, 6.249323607265145, 1384.4441994558113, 1179.4743255056428, 833.3217939056922, 797.5764773223252, 708.2243871635394, 631.5588151126585, 568.7378032238925, 549.3978977716882, 541.8024318918988, 534.8721508825332, 499.40985175166855, 469.26272315995277, 466.2358181169516, 463.9982046515551, 462.4795669130547, 453.30028650185415, 439.6972620562438, 426.8521717038303, 397.6371204872197, 379.57976384282136, 378.38347119673824, 373.3043280426815, 356.84700319591894, 296.95383870313816, 276.99660008635334, 273.27555296701263, 270.10900095223195, 264.6371968550493, 262.2365183161713, 260.1424291955036, 460.651508658635, 1036.3156847461423, 964.5817002676342, 906.7733315095631, 1257.1946045443526, 597.0181921500983, 806.6506378446765, 746.3613043094346, 1274.5027050254885, 816.0560367989875, 1261.1294610863297, 637.1023506094044, 805.1381546664131, 559.8517876079889, 720.9422935286535, 651.2579622459014, 490.19693666877225, 474.2053889407522, 524.1086866663072, 501.84496505507303, 1679.5020307586476, 770.6127447254593, 749.6106801084717, 694.5441920306966, 613.6064999124309, 526.7427011819225, 476.7810631055698, 476.23302700746524, 396.7184741643309, 393.29735200426387, 379.95706461066464, 363.61166030093557, 328.9703865260132, 285.79058582404537, 251.85320218357708, 247.7878250254472, 235.76884952568665, 229.74997142861793, 220.00688163661363, 213.79755958046977, 207.42253005517316, 198.2814386988837, 196.27238034966146, 195.35174042051528, 187.81756901097543, 186.29557382057936, 168.5147584669274, 162.77501808765206, 160.5647490388112, 159.75806676136693, 564.5623373468568, 272.27000376442805, 448.07397421417, 198.53421912710294, 293.4277166019363, 271.0801052772703, 222.3007505024102, 246.49478708108822, 275.79992531698804, 2060.435759943448, 1930.1219329360435, 1400.0211380640267, 1328.5760955538938, 1297.3729932346796, 838.1738321247982, 677.6592099059169, 490.87139042572187, 480.40481359751925, 449.49759694436096, 442.325435650892, 360.82859746902534, 353.73384610228595, 306.50996747184354, 304.52111826710507, 295.5885887040136, 212.9328856857517, 208.45959492304354, 193.11279144084875, 185.1636757994003, 183.77872581298507, 162.31696017456412, 159.31453250008244, 158.3001968132882, 154.09174581754192, 131.64893721578545, 125.4708157094631, 125.15529205365635, 121.94553586791163, 119.79959515856085, 299.6244066255092, 219.2560452908405, 333.37977728903843, 208.24389978403582, 674.0642909224551, 340.8903028837891, 428.6689144142154, 225.21519452206525, 223.4448955370188, 232.49517855824948, 190.5628071610812, 2519.8585608790113, 1016.5079495244483, 734.4749678007985, 678.5645856207631, 674.4542251322173, 530.5514510491663, 429.4723245235102, 408.3552592259893, 402.29128812126345, 385.09348226699836, 357.3253942924528, 310.77771953123704, 298.8008324367338, 231.9389877390136, 216.7293079616888, 205.34789030282286, 185.46862849832945, 180.05577579123232, 157.6230806335644, 156.91273734782948, 136.8452396810822, 119.95919461507985, 114.04597878056616, 110.79886018256417, 97.89648565132639, 93.96471046666875, 92.63046246946756, 87.7614059551129, 85.24393731225751, 75.28931417319413, 328.1578087744717, 367.6497370967761, 197.88280027201313, 752.7315587351393, 302.5469370974373, 507.10878997664196, 418.83947480158145, 418.71416191251524, 304.2216476873847, 305.1789741929736, 268.62623502981717, 212.06701105107703, 210.82569826409838, 186.09589258137873, 3403.847686021235, 2023.3897111377705, 797.0946175070865, 540.4969858495642, 523.4585556162723, 498.207434444538, 371.6557981032084, 350.00109958800766, 321.13702402509153, 275.8700738965692, 227.16256580367698, 223.90254520849643, 222.97083413320513, 187.48825570089477, 180.77218644792066, 164.27375470829824, 163.7826851521901, 157.0280557322527, 154.91498148557233, 151.0768290566611, 142.51932444377027, 139.95798825614182, 139.1006179347071, 123.46554250356148, 117.04046509371841, 109.84049905867442, 109.65693225952124, 104.01927761122462, 98.12084213613805, 96.07895428840335, 410.02387213969746, 336.04762845754897, 182.87794217479134, 321.7311462520338, 323.8844983836982, 249.85847211018407, 158.17119186987046, 256.0754870208565, 167.21027174290006, 170.67646014222228, 906.8680895163369, 881.1354245985392, 740.9314903445701, 667.8588334455006, 523.1394770036668, 507.13458602195846, 456.28665473941913, 435.72926057566855, 389.3595546087096, 369.682138788035, 343.87392134460043, 323.15812180884757, 323.1193412691036, 274.84255204638595, 253.77770833991906, 249.13120870024025, 232.5608325573242, 199.08385994459786, 166.8908360682871, 166.8361995409286, 153.31420944071002, 140.4395820406657, 137.43740239305663, 122.86560492773062, 122.77493030915582, 121.01102411086345, 118.02517361980497, 114.01389844861257, 99.45815010107901, 98.01595049680361, 1622.501303339485, 153.71811223848724, 470.1977828353062, 438.16640891798824, 241.07903218854898, 478.22238035757795, 213.46628361387803, 272.9267779326169, 277.046186690476, 222.5788027418871, 208.72254292957217, 1695.8214317220175, 466.8745883905547, 464.3808000123984, 386.0461930320567, 376.0596166342048, 373.3982033647658, 320.1377516170901, 304.49396156360586, 297.37973509962717, 285.5100484767946, 263.37865455646966, 245.05225642697332, 230.57397250532682, 212.724881419855, 207.8766549391794, 197.68345520595037, 177.42571193377768, 174.29718000101764, 159.7055150193668, 154.03982344110523, 150.11818928315682, 144.3867566206477, 137.80009492098145, 132.91638015365092, 119.82441506446189, 110.6394857453957, 105.3696685332728, 104.65540355176188, 104.60306353468786, 102.12112193788977, 416.34093403140236, 165.42442415406225, 175.387158253713, 198.62185712616457, 121.4119432606526, 877.5731978516112, 577.7335939610961, 534.6402216021149, 531.4727311858109, 474.69589044991307, 469.265655390557, 417.7072216950497, 338.3872696417537, 334.3476287258599, 333.86843694318253, 287.9860644342219, 266.05469901239485, 234.9962718732543, 231.70808267143914, 192.6545162677121, 155.25628089467415, 155.2067828398594, 148.71225020566575, 127.80489900147919, 127.09396445035811, 114.57872030879801, 104.86067327211306, 101.20405432831255, 97.88107620467079, 93.03937150420148, 92.14116541560189, 91.90154201770314, 91.2457856260477, 89.74841101646102, 88.33655430207806, 960.6108265353846, 235.758203586713, 102.90850519861569, 1992.9976277148867, 455.5541463850239, 441.83853652426757, 253.109621638442, 182.34577893175137, 163.67735130193853, 150.33276589799655, 137.0902471995178, 86.14080142703001, 81.1834288363501, 78.33004147981346, 71.14477315628405, 45.831947385684124, 38.24004215196119, 31.069807716796632, 23.5421500282765, 22.859944549236733, 13.766515760350211, 9.47584216038918, 1.0592165120687416, 139.76867581957862, 57.03121552625793, 326.1784869023015, 85.37285254730733, 9.291818435780492, 52.745909843120245, 11.19487891499798, 44.20012299894437, 0.05941659812987389, 0.05940772379814552, 35.45687868337834, 15.356836939928254, 9.683693109552372, 630.4142998390187, 333.8621900253682, 302.7499198131678, 279.0944949811749, 239.41089320400192, 227.89651665861837, 208.34684775599806, 184.46868831271607, 94.06001530399647, 82.72739378752917, 74.12242685686698, 71.32995134936407, 63.0045598269606, 45.77253597961538, 34.12254943746341, 29.084776445702275, 26.027572940318272, 15.191419689780812, 225.6930223097748, 167.88669800870744, 52.78221811991183, 0.04486501066147592, 0.04486162059073162, 0.04486078579853633, 0.044857706229767105, 0.044854723374727824, 0.04485054432355505, 0.044850116747064774, 0.044850116747064774, 0.04484735277046695, 8.569563271495095, 230.81933205623167, 190.18734637413834, 156.6855228155589, 154.83342679782564, 115.22155045501623, 111.43081717590604, 100.69256561500623, 88.2972512387763, 86.57087037571195, 79.34442137300894, 66.3060155422729, 65.54033462420736, 53.327688896774, 33.3417683281158, 28.859862172585686, 18.200693786236652, 112.11902915105388, 0.04306697057052277, 0.0430665864208262, 0.043066184967089235, 0.043066371850725406, 0.043067025943452006, 0.04306747930931012, 0.043065918484867294, 0.04306676638284621, 0.043065932328099604, 0.043065870033554214, 0.0430657800525442, 0.04306600500506922, 0.043065292078605315, 0.043068856710924856, 0.043068171470925565, 0.04306905397698525, 0.04306662795052312, 0.04306655181274542, 0.043066901354361226, 239.06622909361153, 145.12278819137796, 116.9087028867222, 93.96990387319366, 57.098138637030445, 55.07818325062843, 46.09487193210664, 31.267366222166125, 28.6472670819313, 18.813756930604306, 17.817086613595762, 17.18581321229616, 15.890876735481061, 10.60211683136274, 3.307252198166643, 0.03443899166623265, 0.03443917047619495, 0.03443845994187106, 0.03443735179065731, 0.03443726709120148, 0.034437060048087234, 0.034436850652210325, 0.03443763882770206, 0.03443676124722917, 0.03443646479913377, 0.03443641539111788, 0.034436410685592556, 0.03443655420411493, 0.03443631657508608, 0.03443631657508608, 0.03443660596489349, 0.034437245916337525, 0.03443692594061551, 0.03443696123205543, 0.03443775411307249, 0.03443819878521559, 0.03443694711547946, 0.0344367659527545, 288.7382244820248, 58.549116427867204, 53.9496736110639, 52.105396887787315, 50.135302641266996, 44.96675791334111, 41.42476613889253, 28.63916978698156, 19.307084479532747, 13.853453857596406, 0.028521167320440657, 0.028520060950112967, 0.028519956469947115, 0.028519185928723954, 0.028519185928723954, 0.02851910756859956, 0.02851910756859956, 0.028518885548247126, 0.028519113165751304, 0.0285189042054196, 0.028518732559432842, 0.02851871203654312, 0.028518650467873958, 0.02851888927968162, 0.028519068388537367, 0.028518859428205662, 0.02851874002230183, 0.028518588899204795, 0.0285187624109088, 0.028518368744569606, 0.028519053462799388, 0.028518764276626047, 0.028518700842239637, 92.38597002331333, 38.925681568123004, 26.77424046437834, 24.97792637977192, 19.12927337839826, 13.532181201731829, 12.826739147920515, 12.285176764697066, 10.145410957005913, 8.66366381427705, 8.416772206198143, 7.214269247466305, 5.8713411629890935, 0.02034964707844008, 0.02034839699401851, 0.020348108333928614, 0.020348108333928614, 0.020348173515239234, 0.02034811997344837, 0.02034813626877602, 0.020347966331787617, 0.020348110661832564, 0.020347966331787617, 0.02034771724606488, 0.020347675343793767, 0.020348802049305947, 0.020347824329646616, 0.020347903478380943, 0.020347635769426605, 0.020347638097330555, 0.02034836207545925, 0.020348115317640466, 0.02034807341536935, 0.020348015217770583, 0.0203482224012222], \"Total\": [53235.0, 17060.0, 13405.0, 9429.0, 9896.0, 6637.0, 5937.0, 3405.0, 7863.0, 5026.0, 1994.0, 2521.0, 5181.0, 2275.0, 10774.0, 6155.0, 7967.0, 2024.0, 8881.0, 2061.0, 3455.0, 1931.0, 1697.0, 1739.0, 2761.0, 2419.0, 2869.0, 3172.0, 6755.0, 1680.0, 7967.730407514595, 4230.36946557566, 2986.5650464970045, 2785.481642086701, 2455.957323057052, 2294.395302807274, 2272.6375185706665, 2268.6115239911364, 2792.435954278817, 2158.466541450007, 2087.295345553882, 2053.601450089614, 2024.6427049882934, 2022.1340845351683, 1543.1419636773587, 1515.8413277572215, 1431.5248986748477, 1337.6460344636005, 1289.6155696187966, 1252.0787075358644, 1145.316226373761, 1142.8930189781502, 1109.4123459110049, 999.9960628048667, 932.067460484871, 929.1620726441214, 880.2659993227402, 839.1428233700426, 781.8147452149223, 776.7044392581653, 6755.648067617545, 6871.81840220284, 3170.539356107957, 2273.6995783692028, 2855.4387039387066, 10774.334697402839, 2074.5334962118936, 3849.205620341635, 2216.555960896537, 6280.336611912498, 2817.9587842077703, 4867.105298155176, 3967.1126032234547, 4806.631165302623, 4931.0742730731845, 6188.052654939547, 8625.032794976578, 8341.128425939532, 7842.706065475931, 3431.8448437421252, 5540.880534195149, 4331.789531772652, 4927.408677603813, 5026.847600615713, 4187.699000307153, 4531.669955019824, 8881.753403053463, 4658.307083571218, 4216.0909495481865, 6021.885117585914, 13405.138131226824, 4141.333338458781, 3434.689021647504, 3387.1475492324025, 3000.8007311817396, 2066.736962304241, 1712.8599265071211, 1687.6941733818946, 1588.1935188487732, 1355.8604468274566, 1120.6722823115686, 1060.5206402465649, 1056.560568033888, 1046.7058140637655, 1039.214084262366, 1034.892285491379, 1033.1686987161263, 1022.3768462954873, 991.8942185373116, 987.9230976582892, 939.4377794864436, 922.0838963419416, 913.5618733864585, 869.9506883457266, 866.7030170259386, 762.4642784523248, 697.5570745164177, 628.5718298022741, 592.0932707221212, 577.3805907444313, 514.6357379646664, 496.26846784002595, 640.3999257585969, 721.6155046663562, 1754.7443119977918, 762.9282105189117, 2880.0649102221396, 1539.908616626247, 2221.8144724344056, 1148.3955546147536, 1495.2060656346707, 3367.788738344027, 8881.753403053463, 3813.7162572015727, 2111.931677303742, 7863.3609179, 2963.7561467931937, 3964.3436365939233, 2670.724718808784, 2185.4036340770344, 1315.3639911726393, 2309.7987714526844, 1292.7402031857964, 1863.240193644306, 1637.794235194499, 7842.706065475931, 8341.128425939532, 1680.794839961639, 2520.0941155029163, 4658.307083571218, 13405.138131226824, 6021.885117585914, 6637.4109575938855, 5937.344911789863, 2869.9311257515265, 2140.541844157258, 1402.0615824918311, 1348.5345048995123, 1306.327148040722, 952.5323250864118, 794.0137479523355, 708.2102647693969, 575.8847985976344, 547.7113572341391, 520.0860519400752, 506.0686897397134, 392.364702115911, 383.97980453670544, 355.4541634471057, 339.33789474264, 313.67280662393205, 306.2941585662709, 294.8450735524667, 273.83928055474195, 270.81244842410194, 258.67937962627116, 248.80115069353204, 233.32309485132728, 228.02336606714698, 225.54251801935126, 205.2121285437933, 203.8120062711824, 3455.2442122777557, 9429.3344820901, 17060.96248770128, 802.3421949134167, 1028.1836384219998, 1301.8316794640966, 1004.3419293399345, 9896.904533376959, 380.69192126844666, 13405.138131226824, 1687.1615417272521, 1025.7395542064105, 2415.285263170667, 2901.6035720294044, 1339.3498845715797, 2901.1334946751936, 1287.2723304469546, 4819.965198775143, 4016.4846447285568, 5540.880534195149, 1720.3385436246053, 3367.788738344027, 4187.699000307153, 6155.460936566756, 8625.032794976578, 2693.9612719293345, 1658.6616754985935, 1519.0303564917172, 1210.0527507898823, 1134.2965177616686, 1131.334142552312, 1095.9778173206244, 946.0110906651316, 945.5966231337442, 943.6336786244567, 897.2508197718645, 897.2400885070517, 886.3389354156579, 846.6259377463758, 840.5994046339206, 787.3826496670071, 732.1049999806038, 631.9551353603106, 595.7012168400105, 524.2092360144466, 466.39983034923534, 452.8346146594255, 449.5063089741201, 424.13862387829965, 411.5012241343129, 402.3938339698647, 374.7131791256084, 370.43655311812097, 355.59533041493836, 353.6885333946757, 2093.1334076995754, 2800.246263947476, 731.3103983581523, 1354.9628346596514, 773.8837570951174, 1589.1474896303675, 1003.8743773183169, 969.4430629105927, 5181.572994920681, 1548.1616853792661, 1634.370636208848, 1470.5465426751416, 2311.419780421627, 6155.460936566756, 3172.524572082404, 2169.9926425450435, 1966.1200670652515, 1868.2840109179501, 2480.829011297923, 1965.7645260299498, 4158.911292673168, 4927.408677603813, 6021.885117585914, 1614.3639814710577, 4819.965198775143, 1759.9721303963163, 1514.301465381371, 1319.9033844655025, 1043.0231572967602, 1033.0925883174864, 910.8133976900549, 832.2137209394092, 783.1435568566081, 766.5770356090079, 688.1079971307313, 657.8548214476991, 651.366896056435, 613.2923174372172, 2761.3394516656285, 599.4032757050528, 581.0489463803838, 567.1077863537071, 561.9055673030322, 551.4053578667413, 480.0600970069621, 468.2688732375937, 465.1221918803373, 451.2313656053997, 440.33196395470577, 427.0062482123527, 412.95645877181727, 410.50076792337757, 391.0730948398912, 388.8781784594938, 383.69144848480397, 595.5595040644441, 424.8188139159654, 870.7884675666694, 948.9905368766362, 1965.0257171492858, 2136.926780680559, 780.8642627475703, 505.66972668106024, 617.7320129659377, 657.0072489747523, 7863.3609179, 624.9099995533925, 1784.8974276596487, 4025.0643753626982, 1611.1406860477214, 781.8580999939279, 852.5692752146446, 713.0525387227384, 53235.7821201334, 2419.4546195608696, 1672.1962084539587, 961.9693187109496, 771.3604072804978, 398.3321825531782, 397.41420231524853, 352.8160658798102, 281.26705292957706, 229.14197888527826, 193.59695137129654, 188.763377514764, 183.4361743209261, 170.5679387048567, 157.7476908473128, 154.72085025228378, 125.37948976794168, 112.88410011976329, 110.66425121731004, 106.79156763094683, 85.06140948025504, 65.97220673023523, 57.90851559746654, 32.849849334726024, 32.38171539022018, 28.22115025916176, 25.265203590249875, 1.2608063591711935, 1.258241094896645, 1.2582060308138998, 2415.081519071329, 2273.6995783692028, 1385.6273914453868, 1180.6575175012797, 834.5049859013287, 798.7596693169838, 709.407579159176, 632.7420071022339, 569.9209977190546, 550.5810897731302, 542.9856239337556, 536.0553428721086, 500.59304374124423, 470.4459151676177, 467.4190101116104, 465.1813966411308, 463.6627589026304, 454.4834784914298, 440.8804540458195, 428.0353636988285, 398.8203124767954, 380.76295583781956, 379.5666631929974, 374.4875200383184, 358.0301951854946, 298.13703069271384, 278.179792075929, 274.45874496385073, 271.2921929418076, 265.820388850906, 263.4197103176137, 261.3256211850793, 463.89315324087784, 1080.0046274290623, 1028.048105743629, 983.0771944354632, 1462.4317370398983, 654.8966518683683, 931.2100789144205, 977.5409697840346, 2244.606492098609, 1174.6244152456356, 2265.81248511381, 1022.7840641269318, 2480.829011297923, 1051.0062307533813, 5026.847600615713, 3223.5629655269618, 678.0235412652329, 661.4786428927455, 3813.7162572015727, 4016.4846447285568, 1680.6919534194517, 771.7976944063979, 750.7956297894103, 695.7291417116353, 614.791449598792, 527.9276508628611, 477.96601280759546, 477.4179766884042, 397.9034238452699, 394.4823017239625, 381.14201429160363, 364.79660998187455, 330.1553362362802, 286.97553550498435, 253.03815186451598, 248.97277472505044, 236.95379923075973, 230.93492111514252, 221.191831324815, 214.98250926699436, 208.6074797415346, 199.4663883798226, 197.4573300726317, 196.53669010145418, 189.00251877852347, 187.48052350151826, 169.69970827027058, 163.9599678049496, 161.74969875022643, 160.94301647517054, 588.9979416071277, 325.82766198031584, 728.812708501827, 255.93970440540306, 782.0940145256207, 624.7739102644123, 361.19112804656066, 908.6074820979769, 2185.4036340770344, 2061.633196946235, 1931.3193699388303, 1401.218575072399, 1329.7735325623971, 1298.5704302374663, 839.371269156902, 678.8566469144201, 492.0688274285087, 481.6022506003061, 450.6950339528645, 443.52287265367886, 362.02603447752887, 354.93128313792613, 307.70740448034707, 305.7185552756086, 296.78602573189676, 214.13032268853843, 209.65703192583027, 194.31022844363548, 186.3611128077727, 184.9761628157718, 163.5143971830676, 160.51196952143408, 159.4976338879545, 155.28918291763537, 132.84637423640262, 126.66825271783557, 126.35272906215988, 123.14297290001576, 120.99703216706438, 349.8362417680998, 248.56288500494495, 700.0743874592947, 333.8199029083245, 5026.847600615713, 1278.9557544813292, 3172.524572082404, 482.72781852527925, 671.6991026093358, 2287.6590284381246, 688.2799054965807, 2521.054608675235, 1017.7039973371534, 735.6710155970217, 679.7606334169863, 675.6502729284405, 531.7474988453895, 430.66837233151165, 409.5513070222127, 403.48733591748686, 386.2895300632218, 358.5214420886762, 311.97376732746045, 299.9968802329572, 233.13503563555273, 217.92535575791217, 206.54393809904624, 186.66467629455283, 181.25182368908946, 158.81912842978778, 158.10878516441392, 138.0412874773056, 121.15524241130328, 115.24202658237527, 111.99490803952479, 99.0925334522649, 95.16075826289217, 93.82651026569098, 88.95745376393943, 86.43998511319603, 76.48536196941755, 355.9978991902535, 471.6885062894998, 237.94873421427425, 1611.1406860477214, 630.516367979928, 1614.3639814710577, 1720.3385436246053, 2136.926780680559, 1287.2723304469546, 6155.460936566756, 5181.572994920681, 2244.606492098609, 2311.419780421627, 1025.7395542064105, 3405.0412905202434, 2024.5833156367785, 798.2882220060942, 541.690590348572, 524.6521601213412, 499.401038943546, 372.8494026634365, 351.1947040932966, 322.330628576223, 277.06367839557714, 228.35617030268492, 225.09614970750437, 224.16443863221306, 188.6818601999027, 181.96579100591677, 165.46744890461656, 164.9762896732359, 158.2216603020395, 156.10858598929534, 152.27043356138577, 143.7129289551508, 141.15159275514975, 140.29422250544795, 124.65914700983193, 118.23406959272639, 111.0341035765665, 110.8505368167961, 105.2128821102326, 99.33079071933717, 97.27255881101193, 570.53673735755, 512.6912460876345, 263.2224152043598, 851.4011964516975, 931.5764425272121, 1049.8163529174362, 297.23303025313913, 1798.7733245644654, 411.7931611993367, 1589.1474896303675, 908.0631242644977, 882.3304593409832, 742.1265250987808, 669.0538681879447, 524.3345117461108, 508.32962076440276, 457.4816894885469, 436.92429531811285, 390.55458936400197, 370.8771735434147, 345.0689560937282, 324.35315656299537, 324.3143760115479, 276.03758682515985, 254.97274308236328, 250.3262434992623, 233.75586729976843, 200.27889469310333, 168.08587081581453, 168.03123429877357, 154.50924428390215, 141.63461678819314, 138.63243714058407, 124.06063972531595, 123.9699650566833, 122.20605887720252, 119.22020836767179, 115.20893319105683, 100.65318493673155, 99.21098525279136, 1739.0359002218001, 162.84162008451082, 584.3269919470528, 546.8041648426041, 362.37090657230726, 1204.419522899769, 409.3336673317259, 755.0691824798271, 860.6229960581361, 728.8168766107538, 622.4887012856209, 1697.0185255137008, 468.07168218892156, 465.5778938040817, 387.24328682374, 377.2567104258881, 374.5952972323042, 321.3348454138566, 305.69105535528917, 298.5768289030444, 286.7071422684779, 264.57574834815296, 246.2493502186566, 231.77106630209332, 213.92197521759948, 209.07374873086266, 198.88054899763364, 178.62280572546095, 175.4942737927009, 160.90260881647262, 155.2369172327885, 151.31528308841422, 145.5838504174142, 138.99718871266472, 134.1134739453342, 121.02150885614519, 111.83657957564574, 106.566762332469, 105.85249738689899, 105.80015732637116, 103.3182158565639, 822.0583626385485, 218.1587655250169, 316.29352832192905, 1160.3639936345353, 219.61936908003685, 878.7656022663257, 578.9259983701484, 535.8326260102004, 532.6651355881796, 475.88829485228206, 470.45805982342466, 418.8996260974187, 339.57967404412267, 335.5400331742819, 335.0608413506347, 289.1784688766845, 267.24710341476384, 236.18867628919736, 232.90048707616086, 193.84692067008103, 156.44868530914914, 156.39918724828956, 149.9046546080347, 128.99730340384812, 128.28636885272707, 115.77112471116699, 106.05307770233931, 102.396458737944, 99.07348060703977, 94.23177591869292, 93.33356982305408, 93.09394645849213, 92.43819005214834, 90.94081544090874, 89.52895875426438, 1160.3639936345353, 1548.1616853792661, 471.6885062894998, 1994.196416356044, 456.75293502618115, 443.0373251755982, 254.3084102795992, 183.54456758430314, 164.87613994309572, 151.53155455335013, 138.28903589680496, 87.33959008685154, 82.38221747750731, 79.52883016969491, 72.34356183996806, 47.03073603894739, 39.43883080485232, 32.26859635795384, 24.740938690892584, 24.058733195979624, 14.965304401507419, 10.674630910745657, 2.258005153225949, 316.29352832192905, 134.55488183510062, 2275.026175004296, 969.4430629105927, 122.56657202999098, 703.845966912601, 153.25848623809443, 794.3410802826559, 1.2583190730797502, 1.25820957106379, 1027.2870602588525, 611.3860127663129, 681.645674899893, 631.6276528321619, 335.0755430185115, 303.9632728063111, 280.3078479743182, 240.62424621363826, 229.10986966653704, 209.56020074914136, 185.68204130585937, 95.27336829713978, 83.94074679253917, 75.33578012301828, 72.54330434250738, 64.21791284579487, 46.985889004510874, 35.335902444180846, 30.298129486421495, 27.24092594968407, 16.404772682924126, 302.97498881536166, 754.6906859170006, 395.94384279913584, 1.2582527273909885, 1.2582530280039512, 1.2582423765906074, 1.2582366977789146, 1.2582366328922912, 1.2582214702989967, 1.2582194777967821, 1.2582195637567715, 1.2582605564731542, 539.4311545082576, 232.03445606845216, 191.40247039242004, 157.90064682777938, 156.0485508151363, 116.43667448710228, 112.64594119989326, 101.90768963264927, 89.51237525099678, 87.78599439335498, 80.55954538522943, 67.52113958751666, 66.75545865629341, 54.542812920972054, 34.55689235231385, 30.074986214123513, 19.415817805140648, 122.56657202999098, 1.2581978860251062, 1.2581941837603667, 1.258196773285587, 1.2582053552332668, 1.2582248696328655, 1.2582381329201031, 1.2581969012852054, 1.258222461922103, 1.2582006116677193, 1.2582009109575263, 1.2581997226641164, 1.2582099033901584, 1.2581928333084, 1.2583092642131413, 1.2583190730797502, 1.2583947065625118, 1.2582476049095095, 1.2582755654258042, 1.2583624072617912, 240.28998195097148, 146.34654107208837, 118.1324557495047, 95.19365673055361, 58.32189156989843, 56.30193611370512, 47.3186247894666, 32.49111907952608, 29.871019982306535, 20.03750979880934, 19.04083956793418, 18.409566069656115, 17.114629722469935, 11.825869743590307, 4.531005060616795, 1.2582073594688405, 1.2582230201603581, 1.2582333679054774, 1.2582047165690302, 1.2582092644587164, 1.258206829497298, 1.2582013920277313, 1.2582310276681106, 1.2581995856838954, 1.2581929945262984, 1.2581912984823755, 1.2581956046652385, 1.2582036574335516, 1.258196231768648, 1.258196231768648, 1.2582069061610144, 1.2582331426587618, 1.2582205689700277, 1.2582246005002315, 1.2582668503408683, 1.2583025312216503, 1.2582331423995792, 1.2583028148382431, 289.9678955321368, 59.77878747797927, 55.17934466117597, 53.33506793789938, 51.364973698641535, 46.196428977027296, 42.65443719626707, 29.86884083709363, 20.536755542240915, 15.083124907708472, 1.258197013403331, 1.2581948400221499, 1.2581945381282733, 1.2581926565035837, 1.2581926565035837, 1.2581924951391048, 1.2581956202256763, 1.2581916214644902, 1.258204628747149, 1.258195461457378, 1.2581922119680928, 1.2581927601361824, 1.2581928958899968, 1.2582036338284375, 1.2582130497096875, 1.2582042238698965, 1.2582012459379366, 1.2581959789032007, 1.2582058458454717, 1.2581905603951777, 1.258224423960524, 1.2582127838192403, 1.2582605564731542, 93.62381126507898, 40.163522809888654, 28.01208184832095, 26.21576762153757, 20.367114675332026, 14.77002246557622, 14.064580395967166, 13.523018011545926, 11.383252235334353, 9.90150506814875, 9.654613452678886, 8.452110489231956, 7.109182453223211, 1.2582632917781553, 1.2581951090195311, 1.258190430729738, 1.2581905013233008, 1.2581962378771032, 1.2581974752062586, 1.2581998006009383, 1.2581934085294761, 1.258202945441989, 1.2581945210528287, 1.2581937938356753, 1.2581928006551537, 1.2582626323533521, 1.2582053333147574, 1.2582103560613727, 1.258193854304205, 1.2581950072334986, 1.2582410049561479, 1.2582268061639696, 1.2582249876970315, 1.258225858007001, 1.2582511932033797], \"Category\": [\"Default\", \"Default\", \"Default\", \"Default\", \"Default\", \"Default\", \"Default\", \"Default\", \"Default\", \"Default\", \"Default\", \"Default\", \"Default\", \"Default\", \"Default\", \"Default\", \"Default\", \"Default\", \"Default\", \"Default\", \"Default\", \"Default\", \"Default\", \"Default\", \"Default\", \"Default\", \"Default\", \"Default\", \"Default\", \"Default\", \"Topic1\", \"Topic1\", \"Topic1\", \"Topic1\", \"Topic1\", \"Topic1\", \"Topic1\", \"Topic1\", \"Topic1\", \"Topic1\", \"Topic1\", \"Topic1\", \"Topic1\", \"Topic1\", \"Topic1\", \"Topic1\", \"Topic1\", \"Topic1\", \"Topic1\", \"Topic1\", \"Topic1\", \"Topic1\", \"Topic1\", \"Topic1\", \"Topic1\", \"Topic1\", \"Topic1\", \"Topic1\", \"Topic1\", \"Topic1\", \"Topic1\", \"Topic1\", \"Topic1\", \"Topic1\", \"Topic1\", \"Topic1\", \"Topic1\", \"Topic1\", \"Topic1\", \"Topic1\", \"Topic1\", \"Topic1\", \"Topic1\", \"Topic1\", \"Topic1\", \"Topic1\", \"Topic1\", \"Topic1\", \"Topic1\", \"Topic1\", \"Topic1\", \"Topic1\", \"Topic1\", \"Topic1\", \"Topic1\", \"Topic1\", \"Topic1\", \"Topic1\", \"Topic1\", \"Topic1\", \"Topic1\", \"Topic1\", \"Topic2\", \"Topic2\", \"Topic2\", \"Topic2\", \"Topic2\", \"Topic2\", \"Topic2\", \"Topic2\", \"Topic2\", \"Topic2\", \"Topic2\", \"Topic2\", \"Topic2\", \"Topic2\", \"Topic2\", \"Topic2\", \"Topic2\", \"Topic2\", \"Topic2\", \"Topic2\", \"Topic2\", \"Topic2\", \"Topic2\", \"Topic2\", \"Topic2\", \"Topic2\", \"Topic2\", \"Topic2\", \"Topic2\", \"Topic2\", \"Topic2\", \"Topic2\", \"Topic2\", \"Topic2\", \"Topic2\", \"Topic2\", \"Topic2\", \"Topic2\", \"Topic2\", \"Topic2\", \"Topic2\", \"Topic2\", \"Topic2\", \"Topic2\", \"Topic2\", \"Topic2\", \"Topic2\", \"Topic2\", \"Topic2\", \"Topic2\", \"Topic2\", \"Topic2\", \"Topic2\", \"Topic2\", \"Topic2\", \"Topic2\", \"Topic2\", \"Topic2\", \"Topic2\", \"Topic2\", \"Topic3\", \"Topic3\", \"Topic3\", \"Topic3\", \"Topic3\", \"Topic3\", \"Topic3\", \"Topic3\", \"Topic3\", \"Topic3\", \"Topic3\", \"Topic3\", \"Topic3\", \"Topic3\", \"Topic3\", \"Topic3\", \"Topic3\", \"Topic3\", \"Topic3\", \"Topic3\", \"Topic3\", \"Topic3\", \"Topic3\", \"Topic3\", \"Topic3\", \"Topic3\", \"Topic3\", \"Topic3\", \"Topic3\", \"Topic3\", \"Topic3\", \"Topic3\", \"Topic3\", \"Topic3\", \"Topic3\", \"Topic3\", \"Topic3\", \"Topic3\", \"Topic3\", \"Topic3\", \"Topic3\", \"Topic3\", \"Topic3\", \"Topic3\", \"Topic3\", \"Topic3\", \"Topic3\", \"Topic3\", \"Topic3\", \"Topic3\", \"Topic3\", \"Topic3\", \"Topic3\", \"Topic3\", \"Topic3\", \"Topic4\", \"Topic4\", \"Topic4\", \"Topic4\", \"Topic4\", \"Topic4\", \"Topic4\", \"Topic4\", \"Topic4\", \"Topic4\", \"Topic4\", \"Topic4\", \"Topic4\", \"Topic4\", \"Topic4\", \"Topic4\", \"Topic4\", \"Topic4\", \"Topic4\", \"Topic4\", \"Topic4\", \"Topic4\", \"Topic4\", \"Topic4\", \"Topic4\", \"Topic4\", \"Topic4\", \"Topic4\", \"Topic4\", \"Topic4\", \"Topic4\", \"Topic4\", \"Topic4\", \"Topic4\", \"Topic4\", \"Topic4\", \"Topic4\", \"Topic4\", \"Topic4\", \"Topic4\", \"Topic4\", \"Topic4\", \"Topic4\", \"Topic4\", \"Topic4\", \"Topic4\", \"Topic4\", \"Topic4\", \"Topic4\", \"Topic4\", \"Topic4\", \"Topic4\", \"Topic4\", \"Topic4\", \"Topic4\", \"Topic5\", \"Topic5\", \"Topic5\", \"Topic5\", \"Topic5\", \"Topic5\", \"Topic5\", \"Topic5\", \"Topic5\", \"Topic5\", \"Topic5\", \"Topic5\", \"Topic5\", \"Topic5\", \"Topic5\", \"Topic5\", \"Topic5\", \"Topic5\", \"Topic5\", \"Topic5\", \"Topic5\", \"Topic5\", \"Topic5\", \"Topic5\", \"Topic5\", \"Topic5\", \"Topic5\", \"Topic5\", \"Topic5\", \"Topic5\", \"Topic5\", \"Topic5\", \"Topic5\", \"Topic5\", \"Topic5\", \"Topic5\", \"Topic5\", \"Topic5\", \"Topic5\", \"Topic5\", \"Topic5\", \"Topic5\", \"Topic5\", \"Topic5\", \"Topic5\", \"Topic5\", \"Topic5\", \"Topic5\", \"Topic6\", \"Topic6\", \"Topic6\", \"Topic6\", \"Topic6\", \"Topic6\", \"Topic6\", \"Topic6\", \"Topic6\", \"Topic6\", \"Topic6\", \"Topic6\", \"Topic6\", \"Topic6\", \"Topic6\", \"Topic6\", \"Topic6\", \"Topic6\", \"Topic6\", \"Topic6\", \"Topic6\", \"Topic6\", \"Topic6\", \"Topic6\", \"Topic6\", \"Topic6\", \"Topic6\", \"Topic6\", \"Topic6\", \"Topic6\", \"Topic6\", \"Topic6\", \"Topic7\", \"Topic7\", \"Topic7\", \"Topic7\", \"Topic7\", \"Topic7\", \"Topic7\", \"Topic7\", \"Topic7\", \"Topic7\", \"Topic7\", \"Topic7\", \"Topic7\", \"Topic7\", \"Topic7\", \"Topic7\", \"Topic7\", \"Topic7\", \"Topic7\", \"Topic7\", \"Topic7\", \"Topic7\", \"Topic7\", \"Topic7\", \"Topic7\", \"Topic7\", \"Topic7\", \"Topic7\", \"Topic7\", \"Topic7\", \"Topic7\", \"Topic7\", \"Topic7\", \"Topic7\", \"Topic7\", \"Topic7\", \"Topic7\", \"Topic7\", \"Topic7\", \"Topic7\", \"Topic7\", \"Topic7\", \"Topic7\", \"Topic7\", \"Topic7\", \"Topic7\", \"Topic7\", \"Topic7\", \"Topic7\", \"Topic7\", \"Topic8\", \"Topic8\", \"Topic8\", \"Topic8\", \"Topic8\", \"Topic8\", \"Topic8\", \"Topic8\", \"Topic8\", \"Topic8\", \"Topic8\", \"Topic8\", \"Topic8\", \"Topic8\", \"Topic8\", \"Topic8\", \"Topic8\", \"Topic8\", \"Topic8\", \"Topic8\", \"Topic8\", \"Topic8\", \"Topic8\", \"Topic8\", \"Topic8\", \"Topic8\", \"Topic8\", \"Topic8\", \"Topic8\", \"Topic8\", \"Topic8\", \"Topic8\", \"Topic8\", \"Topic8\", \"Topic8\", \"Topic8\", \"Topic8\", \"Topic8\", \"Topic8\", \"Topic9\", \"Topic9\", \"Topic9\", \"Topic9\", \"Topic9\", \"Topic9\", \"Topic9\", \"Topic9\", \"Topic9\", \"Topic9\", \"Topic9\", \"Topic9\", \"Topic9\", \"Topic9\", \"Topic9\", \"Topic9\", \"Topic9\", \"Topic9\", \"Topic9\", \"Topic9\", \"Topic9\", \"Topic9\", \"Topic9\", \"Topic9\", \"Topic9\", \"Topic9\", \"Topic9\", \"Topic9\", \"Topic9\", \"Topic9\", \"Topic9\", \"Topic9\", \"Topic9\", \"Topic9\", \"Topic9\", \"Topic9\", \"Topic9\", \"Topic9\", \"Topic9\", \"Topic9\", \"Topic9\", \"Topic10\", \"Topic10\", \"Topic10\", \"Topic10\", \"Topic10\", \"Topic10\", \"Topic10\", \"Topic10\", \"Topic10\", \"Topic10\", \"Topic10\", \"Topic10\", \"Topic10\", \"Topic10\", \"Topic10\", \"Topic10\", \"Topic10\", \"Topic10\", \"Topic10\", \"Topic10\", \"Topic10\", \"Topic10\", \"Topic10\", \"Topic10\", \"Topic10\", \"Topic10\", \"Topic10\", \"Topic10\", \"Topic10\", \"Topic10\", \"Topic10\", \"Topic10\", \"Topic10\", \"Topic10\", \"Topic10\", \"Topic10\", \"Topic10\", \"Topic10\", \"Topic10\", \"Topic10\", \"Topic10\", \"Topic10\", \"Topic10\", \"Topic10\", \"Topic11\", \"Topic11\", \"Topic11\", \"Topic11\", \"Topic11\", \"Topic11\", \"Topic11\", \"Topic11\", \"Topic11\", \"Topic11\", \"Topic11\", \"Topic11\", \"Topic11\", \"Topic11\", \"Topic11\", \"Topic11\", \"Topic11\", \"Topic11\", \"Topic11\", \"Topic11\", \"Topic11\", \"Topic11\", \"Topic11\", \"Topic11\", \"Topic11\", \"Topic11\", \"Topic11\", \"Topic11\", \"Topic11\", \"Topic11\", \"Topic11\", \"Topic11\", \"Topic11\", \"Topic11\", \"Topic11\", \"Topic11\", \"Topic11\", \"Topic11\", \"Topic11\", \"Topic11\", \"Topic12\", \"Topic12\", \"Topic12\", \"Topic12\", \"Topic12\", \"Topic12\", \"Topic12\", \"Topic12\", \"Topic12\", \"Topic12\", \"Topic12\", \"Topic12\", \"Topic12\", \"Topic12\", \"Topic12\", \"Topic12\", \"Topic12\", \"Topic12\", \"Topic12\", \"Topic12\", \"Topic12\", \"Topic12\", \"Topic12\", \"Topic12\", \"Topic12\", \"Topic12\", \"Topic12\", \"Topic12\", \"Topic12\", \"Topic12\", \"Topic12\", \"Topic12\", \"Topic12\", \"Topic12\", \"Topic12\", \"Topic12\", \"Topic12\", \"Topic12\", \"Topic12\", \"Topic12\", \"Topic12\", \"Topic13\", \"Topic13\", \"Topic13\", \"Topic13\", \"Topic13\", \"Topic13\", \"Topic13\", \"Topic13\", \"Topic13\", \"Topic13\", \"Topic13\", \"Topic13\", \"Topic13\", \"Topic13\", \"Topic13\", \"Topic13\", \"Topic13\", \"Topic13\", \"Topic13\", \"Topic13\", \"Topic13\", \"Topic13\", \"Topic13\", \"Topic13\", \"Topic13\", \"Topic13\", \"Topic13\", \"Topic13\", \"Topic13\", \"Topic13\", \"Topic13\", \"Topic13\", \"Topic13\", \"Topic13\", \"Topic13\", \"Topic14\", \"Topic14\", \"Topic14\", \"Topic14\", \"Topic14\", \"Topic14\", \"Topic14\", \"Topic14\", \"Topic14\", \"Topic14\", \"Topic14\", \"Topic14\", \"Topic14\", \"Topic14\", \"Topic14\", \"Topic14\", \"Topic14\", \"Topic14\", \"Topic14\", \"Topic14\", \"Topic14\", \"Topic14\", \"Topic14\", \"Topic14\", \"Topic14\", \"Topic14\", \"Topic14\", \"Topic14\", \"Topic14\", \"Topic14\", \"Topic14\", \"Topic14\", \"Topic14\", \"Topic15\", \"Topic15\", \"Topic15\", \"Topic15\", \"Topic15\", \"Topic15\", \"Topic15\", \"Topic15\", \"Topic15\", \"Topic15\", \"Topic15\", \"Topic15\", \"Topic15\", \"Topic15\", \"Topic15\", \"Topic15\", \"Topic15\", \"Topic15\", \"Topic15\", \"Topic15\", \"Topic15\", \"Topic15\", \"Topic15\", \"Topic15\", \"Topic15\", \"Topic15\", \"Topic15\", \"Topic15\", \"Topic15\", \"Topic15\", \"Topic15\", \"Topic15\", \"Topic15\", \"Topic16\", \"Topic16\", \"Topic16\", \"Topic16\", \"Topic16\", \"Topic16\", \"Topic16\", \"Topic16\", \"Topic16\", \"Topic16\", \"Topic16\", \"Topic16\", \"Topic16\", \"Topic16\", \"Topic16\", \"Topic16\", \"Topic16\", \"Topic16\", \"Topic16\", \"Topic16\", \"Topic16\", \"Topic16\", \"Topic16\", \"Topic16\", \"Topic16\", \"Topic16\", \"Topic16\", \"Topic16\", \"Topic16\", \"Topic16\", \"Topic16\", \"Topic17\", \"Topic17\", \"Topic17\", \"Topic17\", \"Topic17\", \"Topic17\", \"Topic17\", \"Topic17\", \"Topic17\", \"Topic17\", \"Topic17\", \"Topic17\", \"Topic17\", \"Topic17\", \"Topic17\", \"Topic17\", \"Topic17\", \"Topic17\", \"Topic17\", \"Topic17\", \"Topic17\", \"Topic17\", \"Topic17\", \"Topic17\", \"Topic17\", \"Topic17\", \"Topic17\", \"Topic17\", \"Topic17\", \"Topic17\", \"Topic17\", \"Topic17\", \"Topic17\", \"Topic17\", \"Topic17\", \"Topic17\", \"Topic18\", \"Topic18\", \"Topic18\", \"Topic18\", \"Topic18\", \"Topic18\", \"Topic18\", \"Topic18\", \"Topic18\", \"Topic18\", \"Topic18\", \"Topic18\", \"Topic18\", \"Topic18\", \"Topic18\", \"Topic18\", \"Topic18\", \"Topic18\", \"Topic18\", \"Topic18\", \"Topic18\", \"Topic18\", \"Topic18\", \"Topic18\", \"Topic18\", \"Topic18\", \"Topic18\", \"Topic18\", \"Topic18\", \"Topic18\", \"Topic18\", \"Topic18\", \"Topic18\", \"Topic18\", \"Topic18\", \"Topic18\", \"Topic18\", \"Topic18\", \"Topic19\", \"Topic19\", \"Topic19\", \"Topic19\", \"Topic19\", \"Topic19\", \"Topic19\", \"Topic19\", \"Topic19\", \"Topic19\", \"Topic19\", \"Topic19\", \"Topic19\", \"Topic19\", \"Topic19\", \"Topic19\", \"Topic19\", \"Topic19\", \"Topic19\", \"Topic19\", \"Topic19\", \"Topic19\", \"Topic19\", \"Topic19\", \"Topic19\", \"Topic19\", \"Topic19\", \"Topic19\", \"Topic19\", \"Topic19\", \"Topic19\", \"Topic19\", \"Topic19\", \"Topic20\", \"Topic20\", \"Topic20\", \"Topic20\", \"Topic20\", \"Topic20\", \"Topic20\", \"Topic20\", \"Topic20\", \"Topic20\", \"Topic20\", \"Topic20\", \"Topic20\", \"Topic20\", \"Topic20\", \"Topic20\", \"Topic20\", \"Topic20\", \"Topic20\", \"Topic20\", \"Topic20\", \"Topic20\", \"Topic20\", \"Topic20\", \"Topic20\", \"Topic20\", \"Topic20\", \"Topic20\", \"Topic20\", \"Topic20\", \"Topic20\", \"Topic20\", \"Topic20\", \"Topic20\", \"Topic20\"], \"logprob\": [30.0, 29.0, 28.0, 27.0, 26.0, 25.0, 24.0, 23.0, 22.0, 21.0, 20.0, 19.0, 18.0, 17.0, 16.0, 15.0, 14.0, 13.0, 12.0, 11.0, 10.0, 9.0, 8.0, 7.0, 6.0, 5.0, 4.0, 3.0, 2.0, 1.0, -4.0209, -4.6541, -5.0024, -5.0721, -5.1981, -5.2662, -5.2757, -5.2775, -5.0697, -5.3273, -5.3608, -5.3771, -5.3913, -5.3925, -5.6631, -5.6809, -5.7382, -5.8061, -5.8427, -5.8722, -5.9615, -5.9636, -5.9933, -6.0973, -6.1677, -6.1709, -6.225, -6.2729, -6.3438, -6.3503, -4.1928, -4.179, -4.9459, -5.2779, -5.0527, -3.7643, -5.3793, -4.7808, -5.317, -4.3329, -5.1004, -4.5844, -4.7962, -4.6579, -4.6385, -4.4631, -4.2221, -4.2543, -4.3384, -4.989, -4.6653, -4.8507, -4.817, -4.8295, -4.9632, -4.928, -4.5966, -4.9162, -4.9924, -4.9521, -4.9631, -5.0454, -4.0704, -4.0844, -4.2055, -4.5786, -4.7665, -4.7813, -4.8422, -5.0004, -5.1912, -5.2464, -5.2501, -5.2595, -5.2667, -5.2709, -5.2725, -5.283, -5.3133, -5.3174, -5.3677, -5.3864, -5.3957, -5.4447, -5.4484, -5.5768, -5.6659, -5.7702, -5.8301, -5.8553, -5.9706, -6.007, -5.7527, -5.6351, -4.7584, -5.5822, -4.2962, -4.9635, -4.6636, -5.2362, -5.0228, -4.4454, -3.8309, -4.4188, -4.8286, -3.9505, -4.6295, -4.4944, -4.795, -4.9081, -5.1707, -4.9489, -5.1822, -5.0434, -5.106, -4.5897, -4.595, -5.1141, -5.027, -4.9653, -4.8754, -5.0327, -2.8823, -2.9938, -3.721, -4.0144, -4.4378, -4.4767, -4.5085, -4.8247, -5.007, -5.1216, -5.3288, -5.379, -5.4309, -5.4583, -5.7135, -5.7351, -5.8126, -5.8591, -5.9381, -5.962, -6.0002, -6.0744, -6.0856, -6.1316, -6.1708, -6.2353, -6.2584, -6.2694, -6.3644, -6.3713, -3.5564, -2.5822, -2.0409, -5.03, -4.7954, -4.6032, -4.8757, -2.7723, -5.7744, -2.6042, -4.4912, -4.951, -4.3398, -4.3173, -4.9901, -4.5714, -5.0429, -4.3577, -4.4947, -4.4691, -4.9633, -4.7699, -4.7915, -4.8861, -4.9072, -3.7765, -4.2618, -4.3498, -4.5774, -4.6421, -4.6447, -4.6765, -4.8238, -4.8243, -4.8264, -4.8768, -4.8768, -4.8891, -4.935, -4.9421, -5.0076, -5.0805, -5.2279, -5.2871, -5.4152, -5.5323, -5.5619, -5.5693, -5.6276, -5.6579, -5.6804, -5.7518, -5.7634, -5.8044, -5.8098, -4.0336, -3.7459, -5.089, -4.4993, -5.0658, -4.4183, -4.8418, -4.8916, -3.4352, -4.4961, -4.4586, -4.5699, -4.2675, -3.5866, -4.1347, -4.4395, -4.5126, -4.5793, -4.5295, -4.6181, -4.3641, -4.5013, -4.4694, -4.7735, -4.7191, -4.023, -4.1735, -4.311, -4.5467, -4.5563, -4.6824, -4.7728, -4.8336, -4.855, -4.9632, -5.0082, -5.0182, -5.0785, -3.5739, -5.1015, -5.1326, -5.157, -5.1662, -5.1851, -5.324, -5.3489, -5.3557, -5.3861, -5.4106, -5.4414, -5.475, -5.4809, -5.5296, -5.5352, -5.5487, -5.1124, -5.4503, -4.7748, -4.7295, -4.0869, -4.047, -4.9478, -5.3032, -5.1604, -5.1258, -3.4649, -5.1638, -4.5125, -4.1125, -4.7416, -5.0847, -5.097, -5.1553, -0.2678, -3.3595, -3.7291, -4.2825, -4.5036, -5.1658, -5.1681, -5.2875, -5.515, -5.7208, -5.8903, -5.9157, -5.9445, -6.0177, -6.0964, -6.1159, -6.3279, -6.4339, -6.4539, -6.4899, -6.7201, -6.9781, -7.1109, -7.6929, -7.7077, -7.8505, -7.966, -13.0733, -13.0911, -13.0912, -8.5212, -9.3178, -3.8656, -4.0259, -4.3733, -4.4171, -4.5359, -4.6505, -4.7553, -4.7899, -4.8038, -4.8167, -4.8853, -4.9475, -4.954, -4.9588, -4.9621, -4.9821, -5.0126, -5.0422, -5.1131, -5.1596, -5.1628, -5.1763, -5.2214, -5.4051, -5.4747, -5.4882, -5.4999, -5.5203, -5.5294, -5.5375, -4.966, -4.1553, -4.227, -4.2888, -3.962, -4.7067, -4.4058, -4.4835, -3.9484, -4.3942, -3.9589, -4.6418, -4.4077, -4.771, -4.5181, -4.6198, -4.9039, -4.937, -4.837, -4.8804, -2.8002, -3.5793, -3.6069, -3.6832, -3.8071, -3.9597, -4.0594, -4.0605, -4.2432, -4.2519, -4.2864, -4.3304, -4.4305, -4.5712, -4.6976, -4.7139, -4.7636, -4.7895, -4.8328, -4.8614, -4.8917, -4.9368, -4.9469, -4.9516, -4.991, -4.9991, -5.0994, -5.1341, -5.1477, -5.1528, -3.8904, -4.6197, -4.1215, -4.9355, -4.5448, -4.624, -4.8224, -4.7191, -4.6068, -2.5602, -2.6255, -2.9466, -2.999, -3.0227, -3.4596, -3.6722, -3.9946, -4.0162, -4.0827, -4.0988, -4.3024, -4.3223, -4.4656, -4.4721, -4.5019, -4.8299, -4.8511, -4.9276, -4.9696, -4.9771, -5.1013, -5.1199, -5.1263, -5.1533, -5.3107, -5.3588, -5.3613, -5.3873, -5.405, -4.4883, -4.8006, -4.3815, -4.8521, -3.6775, -4.3593, -4.1301, -4.7738, -4.7817, -4.742, -4.9408, -2.2475, -3.1554, -3.4803, -3.5595, -3.5656, -3.8056, -4.0169, -4.0673, -4.0823, -4.126, -4.2008, -4.3404, -4.3797, -4.633, -4.7008, -4.7548, -4.8566, -4.8862, -5.0193, -5.0238, -5.1606, -5.2923, -5.3429, -5.3718, -5.4956, -5.5366, -5.5509, -5.6049, -5.634, -5.7581, -4.286, -4.1723, -4.7918, -3.4558, -4.3672, -3.8508, -4.042, -4.0423, -4.3617, -4.3586, -4.4862, -4.7226, -4.7284, -4.8532, -1.8822, -2.4023, -3.3339, -3.7224, -3.7544, -3.8038, -4.0969, -4.1569, -4.243, -4.3949, -4.5892, -4.6036, -4.6078, -4.7811, -4.8176, -4.9133, -4.9163, -4.9584, -4.972, -4.9971, -5.0554, -5.0735, -5.0797, -5.1989, -5.2523, -5.3158, -5.3175, -5.3703, -5.4287, -5.4497, -3.9986, -4.1976, -4.806, -4.2411, -4.2345, -4.494, -4.9512, -4.4694, -4.8956, -4.8751, -3.1297, -3.1585, -3.3318, -3.4356, -3.6798, -3.7109, -3.8166, -3.8627, -3.9752, -4.027, -4.0994, -4.1615, -4.1617, -4.3235, -4.4032, -4.4217, -4.4905, -4.646, -4.8223, -4.8227, -4.9072, -4.9949, -5.0165, -5.1286, -5.1293, -5.1438, -5.1688, -5.2034, -5.3399, -5.3546, -2.548, -4.9046, -3.7865, -3.8571, -4.4546, -3.7696, -4.5762, -4.3305, -4.3155, -4.5344, -4.5987, -2.2426, -3.5324, -3.5378, -3.7225, -3.7487, -3.7558, -3.9097, -3.9598, -3.9835, -4.0242, -4.1049, -4.177, -4.2379, -4.3185, -4.3415, -4.3918, -4.4999, -4.5177, -4.6052, -4.6413, -4.6671, -4.706, -4.7527, -4.7888, -4.8925, -4.9722, -5.021, -5.0278, -5.0283, -5.0523, -3.647, -4.57, -4.5115, -4.3871, -4.8793, -2.823, -3.2411, -3.3186, -3.3245, -3.4375, -3.449, -3.5654, -3.776, -3.788, -3.7894, -3.9373, -4.0165, -4.1406, -4.1547, -4.3393, -4.5551, -4.5554, -4.5982, -4.7497, -4.7553, -4.8589, -4.9475, -4.983, -5.0164, -5.0672, -5.0769, -5.0795, -5.0866, -5.1032, -5.119, -2.7326, -4.1374, -4.9663, -1.3887, -2.8646, -2.8952, -3.4523, -3.7802, -3.8882, -3.9733, -4.0655, -4.5301, -4.5894, -4.6252, -4.7214, -5.1611, -5.3422, -5.5499, -5.8273, -5.8567, -6.3639, -6.7374, -8.9286, -4.0461, -4.9425, -3.1987, -4.5391, -6.757, -5.0206, -6.5707, -5.1974, -11.8093, -11.8094, -5.4178, -6.2546, -6.7157, -2.1836, -2.8192, -2.917, -2.9984, -3.1518, -3.201, -3.2907, -3.4125, -4.086, -4.2144, -4.3242, -4.3626, -4.4867, -4.8063, -5.1, -5.2597, -5.3708, -5.9092, -3.2108, -3.5066, -4.6638, -11.734, -11.7341, -11.7341, -11.7342, -11.7343, -11.7344, -11.7344, -11.7344, -11.7344, -6.4817, -2.8025, -2.9961, -3.1899, -3.2018, -3.4973, -3.5307, -3.6321, -3.7634, -3.7832, -3.8703, -4.0498, -4.0615, -4.2677, -4.7373, -4.8817, -5.3427, -3.5246, -11.3891, -11.3891, -11.3891, -11.3891, -11.3891, -11.3891, -11.3891, -11.3891, -11.3891, -11.3891, -11.3892, -11.3891, -11.3892, -11.3891, -11.3891, -11.3891, -11.3891, -11.3891, -11.3891, -2.3815, -2.8806, -3.0968, -3.3152, -3.8134, -3.8495, -4.0275, -4.4156, -4.5032, -4.9236, -4.9781, -5.0141, -5.0925, -5.4972, -6.6621, -11.2268, -11.2268, -11.2268, -11.2268, -11.2268, -11.2268, -11.2268, -11.2268, -11.2268, -11.2269, -11.2269, -11.2269, -11.2268, -11.2269, -11.2269, -11.2268, -11.2268, -11.2268, -11.2268, -11.2268, -11.2268, -11.2268, -11.2268, -1.9607, -3.5564, -3.6382, -3.673, -3.7115, -3.8203, -3.9024, -4.2715, -4.6658, -4.9977, -11.1834, -11.1834, -11.1834, -11.1834, -11.1834, -11.1834, -11.1834, -11.1835, -11.1834, -11.1835, -11.1835, -11.1835, -11.1835, -11.1835, -11.1834, -11.1835, -11.1835, -11.1835, -11.1835, -11.1835, -11.1834, -11.1835, -11.1835, -2.6285, -3.4928, -3.867, -3.9364, -4.2032, -4.5494, -4.6029, -4.646, -4.8374, -4.9953, -5.0242, -5.1784, -5.3844, -11.0491, -11.0492, -11.0492, -11.0492, -11.0492, -11.0492, -11.0492, -11.0492, -11.0492, -11.0492, -11.0492, -11.0492, -11.0492, -11.0492, -11.0492, -11.0492, -11.0492, -11.0492, -11.0492, -11.0492, -11.0492, -11.0492], \"loglift\": [30.0, 29.0, 28.0, 27.0, 26.0, 25.0, 24.0, 23.0, 22.0, 21.0, 20.0, 19.0, 18.0, 17.0, 16.0, 15.0, 14.0, 13.0, 12.0, 11.0, 10.0, 9.0, 8.0, 7.0, 6.0, 5.0, 4.0, 3.0, 2.0, 1.0, 1.0666, 1.0664, 1.0663, 1.0663, 1.0662, 1.0662, 1.0662, 1.0662, 1.0662, 1.0662, 1.0661, 1.0661, 1.0661, 1.0661, 1.0659, 1.0659, 1.0659, 1.0658, 1.0658, 1.0658, 1.0657, 1.0657, 1.0656, 1.0655, 1.0654, 1.0654, 1.0654, 1.0653, 1.0652, 1.0652, 1.0597, 1.0563, 1.063, 1.0635, 1.0609, 1.0214, 1.0538, 1.0341, 1.0499, 0.9925, 1.0264, 0.996, 0.9886, 0.9349, 0.9287, 0.8771, 0.7861, 0.7873, 0.7648, 0.9408, 0.7854, 0.8462, 0.751, 0.7185, 0.7675, 0.7237, 0.3822, 0.708, 0.7315, 0.4153, -0.3959, 0.6964, 1.8585, 1.8585, 1.8584, 1.8582, 1.8581, 1.8581, 1.8581, 1.8579, 1.8577, 1.8577, 1.8577, 1.8577, 1.8577, 1.8577, 1.8577, 1.8576, 1.8576, 1.8576, 1.8575, 1.8575, 1.8575, 1.8574, 1.8574, 1.8573, 1.8571, 1.8569, 1.8568, 1.8567, 1.8565, 1.8564, 1.8558, 1.854, 1.8421, 1.8512, 1.8088, 1.7676, 1.7009, 1.7883, 1.7377, 1.5032, 1.1479, 1.4054, 1.5866, 1.1502, 1.4469, 1.2911, 1.3855, 1.473, 1.718, 1.3768, 1.7238, 1.4971, 1.5635, 0.5135, 0.4467, 1.5295, 1.2115, 0.6588, -0.3082, 0.3347, 2.3878, 2.3878, 2.3875, 2.3874, 2.3871, 2.3871, 2.387, 2.3867, 2.3865, 2.3863, 2.3859, 2.3858, 2.3857, 2.3856, 2.3849, 2.3849, 2.3846, 2.3844, 2.3842, 2.3841, 2.3839, 2.3836, 2.3836, 2.3834, 2.3832, 2.3828, 2.3827, 2.3827, 2.3821, 2.3821, 2.3666, 2.3368, 2.2851, 2.353, 2.3396, 2.2959, 2.2828, 2.0983, 2.3542, 1.963, 2.1486, 2.1864, 1.9412, 1.7802, 1.8806, 1.5264, 1.8674, 1.2323, 1.2777, 0.9815, 1.657, 1.1786, 0.9392, 0.4594, 0.1009, 2.3953, 2.395, 2.3949, 2.3947, 2.3947, 2.3947, 2.3946, 2.3945, 2.3945, 2.3945, 2.3944, 2.3944, 2.3944, 2.3943, 2.3943, 2.3942, 2.3941, 2.3938, 2.3937, 2.3935, 2.3932, 2.3931, 2.3931, 2.3929, 2.3928, 2.3928, 2.3926, 2.3925, 2.3924, 2.3924, 2.3906, 2.3872, 2.3868, 2.3597, 2.3534, 2.2813, 2.3172, 2.3023, 2.0825, 2.2297, 2.213, 2.2073, 2.0574, 1.7588, 1.8736, 1.9486, 1.9741, 1.9585, 1.7248, 1.8688, 1.3735, 1.0667, 0.898, 1.9104, 0.871, 2.5745, 2.5744, 2.5743, 2.574, 2.574, 2.5739, 2.5737, 2.5736, 2.5736, 2.5734, 2.5734, 2.5733, 2.5732, 2.5732, 2.5732, 2.5731, 2.5731, 2.573, 2.573, 2.5727, 2.5726, 2.5726, 2.5725, 2.5725, 2.5724, 2.5723, 2.5723, 2.5721, 2.5721, 2.5721, 2.5687, 2.5686, 2.5264, 2.4856, 2.4005, 2.3564, 2.4623, 2.5415, 2.4841, 2.457, 1.6357, 2.4692, 2.0709, 1.6578, 1.9442, 2.3242, 2.2253, 2.3457, 2.9202, 2.9198, 2.9196, 2.9191, 2.9188, 2.9175, 2.9175, 2.9171, 2.9163, 2.9154, 2.9145, 2.9143, 2.9142, 2.9137, 2.9132, 2.913, 2.9113, 2.9103, 2.9101, 2.9098, 2.9071, 2.9032, 2.9008, 2.8857, 2.8852, 2.88, 2.8751, 0.7655, 0.7497, 0.7496, -2.2401, -2.9764, 2.971, 2.9709, 2.9705, 2.9704, 2.9702, 2.97, 2.9698, 2.9697, 2.9697, 2.9697, 2.9695, 2.9694, 2.9694, 2.9693, 2.9693, 2.9693, 2.9692, 2.9691, 2.9689, 2.9688, 2.9688, 2.9687, 2.9686, 2.9679, 2.9676, 2.9676, 2.9675, 2.9674, 2.9674, 2.9674, 2.9649, 2.9306, 2.9082, 2.8911, 2.8207, 2.8794, 2.8283, 2.7021, 2.4059, 2.6077, 2.386, 2.4985, 1.8466, 2.3421, 1.0299, 1.3726, 2.6475, 2.6391, 0.9872, 0.892, 3.8434, 3.8426, 3.8425, 3.8424, 3.8422, 3.8419, 3.8416, 3.8416, 3.8411, 3.8411, 3.841, 3.8409, 3.8405, 3.84, 3.8394, 3.8394, 3.8391, 3.839, 3.8388, 3.8386, 3.8384, 3.8382, 3.8381, 3.8381, 3.8378, 3.8378, 3.8371, 3.8369, 3.8368, 3.8367, 3.8018, 3.6646, 3.3577, 3.5901, 2.8638, 3.0092, 3.3588, 2.5396, 1.7742, 3.8792, 3.8791, 3.8789, 3.8788, 3.8788, 3.8783, 3.878, 3.8773, 3.8773, 3.8771, 3.877, 3.8764, 3.8764, 3.8758, 3.8758, 3.8757, 3.8741, 3.874, 3.8736, 3.8733, 3.8732, 3.8724, 3.8723, 3.8722, 3.872, 3.8707, 3.8702, 3.8702, 3.87, 3.8698, 3.7248, 3.7543, 3.1378, 3.4079, 1.8705, 2.5575, 1.8781, 3.1173, 2.7791, 1.5933, 2.5955, 3.9906, 3.9899, 3.9895, 3.9893, 3.9893, 3.9888, 3.9883, 3.9882, 3.9881, 3.988, 3.9878, 3.9873, 3.9871, 3.9859, 3.9856, 3.9853, 3.9847, 3.9845, 3.9835, 3.9835, 3.9824, 3.9812, 3.9807, 3.9804, 3.9789, 3.9784, 3.9783, 3.9776, 3.9772, 3.9753, 3.9097, 3.7419, 3.8067, 3.2301, 3.2568, 2.8331, 2.5783, 2.3612, 2.5486, 0.9869, 1.0315, 1.6317, 1.5965, 2.2842, 4.0554, 4.0551, 4.0542, 4.0535, 4.0534, 4.0533, 4.0525, 4.0523, 4.052, 4.0514, 4.0505, 4.0504, 4.0504, 4.0494, 4.0491, 4.0485, 4.0485, 4.0481, 4.048, 4.0478, 4.0474, 4.0472, 4.0472, 4.0461, 4.0456, 4.0449, 4.0449, 4.0443, 4.0435, 4.0434, 3.7254, 3.6333, 3.6915, 3.0825, 2.9992, 2.6202, 3.4249, 2.1063, 3.1544, 1.8245, 4.1296, 4.1295, 4.1293, 4.1291, 4.1286, 4.1285, 4.1283, 4.1281, 4.1278, 4.1277, 4.1274, 4.1272, 4.1272, 4.1265, 4.1262, 4.1261, 4.1258, 4.1249, 4.1238, 4.1238, 4.1231, 4.1224, 4.1222, 4.1212, 4.1212, 4.1211, 4.1208, 4.1205, 4.1189, 4.1188, 4.0615, 4.0732, 3.9136, 3.9094, 3.7233, 3.2072, 3.4798, 3.1133, 2.9974, 2.9447, 3.0382, 4.3914, 4.3895, 4.3895, 4.389, 4.3889, 4.3889, 4.3884, 4.3882, 4.3881, 4.3879, 4.3875, 4.3872, 4.3869, 4.3865, 4.3863, 4.386, 4.3854, 4.3852, 4.3846, 4.3843, 4.3841, 4.3838, 4.3834, 4.3831, 4.3821, 4.3813, 4.3808, 4.3807, 4.3807, 4.3804, 3.7118, 4.1154, 3.8024, 2.627, 3.7994, 4.469, 4.4683, 4.4682, 4.4681, 4.4679, 4.4679, 4.4675, 4.4669, 4.4668, 4.4668, 4.4663, 4.4659, 4.4653, 4.4653, 4.4642, 4.4627, 4.4627, 4.4624, 4.4611, 4.4611, 4.46, 4.4591, 4.4587, 4.4583, 4.4577, 4.4575, 4.4575, 4.4574, 4.4572, 4.457, 4.2815, 2.5884, 2.9479, 5.0839, 5.0818, 5.0817, 5.0797, 5.0779, 5.0772, 5.0765, 5.0758, 5.0706, 5.0698, 5.0693, 5.0677, 5.0586, 5.0536, 5.0466, 5.0348, 5.0333, 5.001, 4.9653, 4.3275, 4.2678, 4.2261, 3.1422, 2.6548, 2.5049, 2.4934, 2.4678, 2.1957, 2.0315, 2.0314, 1.7181, 1.4003, 0.8304, 5.4387, 5.437, 5.4366, 5.4363, 5.4356, 5.4353, 5.4348, 5.4341, 5.4278, 5.4261, 5.4244, 5.4238, 5.4216, 5.4145, 5.4057, 5.3998, 5.3951, 5.3638, 5.1462, 3.9376, 3.4255, 2.1068, 2.1067, 2.1067, 2.1067, 2.1066, 2.1065, 2.1065, 2.1065, 2.1064, 1.2983, 5.8212, 5.8201, 5.8187, 5.8186, 5.816, 5.8156, 5.8145, 5.8128, 5.8125, 5.8113, 5.8083, 5.8081, 5.8039, 5.7907, 5.7852, 5.7618, 5.7374, 2.4518, 2.4518, 2.4518, 2.4517, 2.4517, 2.4517, 2.4517, 2.4517, 2.4517, 2.4517, 2.4517, 2.4517, 2.4517, 2.4517, 2.4517, 2.4517, 2.4517, 2.4517, 2.4516, 6.2073, 6.204, 6.2019, 6.1994, 6.1912, 6.1904, 6.1862, 6.174, 6.1705, 6.1493, 6.1459, 6.1436, 6.1382, 6.1031, 5.8975, 2.6141, 2.6141, 2.6141, 2.6141, 2.6141, 2.6141, 2.614, 2.614, 2.614, 2.614, 2.614, 2.614, 2.614, 2.614, 2.614, 2.614, 2.614, 2.614, 2.614, 2.614, 2.614, 2.614, 2.614, 6.4401, 6.4235, 6.4218, 6.421, 6.4201, 6.4173, 6.4151, 6.4023, 6.3826, 6.3593, 2.6575, 2.6575, 2.6575, 2.6575, 2.6575, 2.6574, 2.6574, 2.6574, 2.6574, 2.6574, 2.6574, 2.6574, 2.6574, 2.6574, 2.6574, 2.6574, 2.6574, 2.6574, 2.6574, 2.6574, 2.6574, 2.6574, 2.6574, 6.9028, 6.8848, 6.8709, 6.8678, 6.8534, 6.8286, 6.824, 6.8201, 6.801, 6.7826, 6.7789, 6.7578, 6.7248, 2.7917, 2.7917, 2.7917, 2.7917, 2.7917, 2.7917, 2.7917, 2.7917, 2.7917, 2.7917, 2.7917, 2.7917, 2.7917, 2.7917, 2.7917, 2.7917, 2.7917, 2.7917, 2.7917, 2.7917, 2.7917, 2.7916]}, \"token.table\": {\"Topic\": [9, 2, 15, 6, 1, 4, 16, 10, 1, 2, 18, 10, 1, 2, 4, 5, 7, 16, 4, 6, 4, 15, 2, 12, 3, 17, 3, 5, 2, 8, 1, 2, 3, 14, 10, 9, 9, 5, 10, 12, 8, 11, 17, 4, 7, 10, 9, 8, 14, 6, 1, 1, 9, 2, 9, 1, 11, 3, 9, 6, 1, 4, 10, 3, 5, 5, 12, 1, 7, 7, 2, 12, 17, 8, 3, 3, 12, 1, 3, 12, 17, 9, 7, 6, 11, 3, 4, 1, 5, 13, 1, 2, 4, 5, 13, 10, 5, 7, 6, 2, 14, 1, 8, 3, 4, 10, 2, 8, 7, 5, 2, 2, 15, 10, 10, 3, 8, 17, 4, 3, 11, 1, 2, 7, 8, 10, 2, 7, 18, 3, 4, 16, 12, 5, 9, 12, 3, 7, 1, 3, 4, 5, 7, 3, 6, 18, 5, 3, 4, 12, 11, 3, 1, 15, 13, 14, 5, 1, 1, 5, 12, 3, 3, 2, 4, 15, 13, 5, 10, 10, 16, 3, 9, 6, 1, 5, 3, 10, 5, 19, 5, 9, 19, 5, 12, 1, 16, 7, 14, 2, 10, 12, 12, 7, 10, 11, 10, 18, 7, 4, 15, 5, 1, 2, 4, 6, 4, 11, 6, 2, 16, 4, 4, 10, 3, 8, 20, 7, 9, 1, 4, 15, 5, 16, 13, 2, 14, 11, 4, 11, 19, 10, 2, 13, 7, 3, 4, 12, 10, 1, 6, 13, 11, 15, 4, 13, 15, 13, 8, 11, 1, 2, 5, 6, 2, 20, 2, 4, 14, 2, 4, 12, 2, 10, 17, 12, 13, 7, 1, 2, 5, 7, 9, 7, 9, 12, 1, 4, 11, 4, 7, 12, 14, 5, 10, 13, 1, 5, 4, 19, 1, 7, 9, 1, 5, 5, 1, 2, 8, 9, 14, 18, 13, 3, 1, 8, 13, 1, 2, 3, 4, 7, 9, 15, 5, 14, 1, 11, 13, 4, 12, 17, 9, 4, 11, 12, 6, 1, 4, 13, 14, 1, 8, 1, 2, 17, 12, 1, 7, 2, 1, 2, 9, 6, 5, 10, 6, 1, 2, 8, 2, 5, 11, 13, 1, 2, 4, 5, 7, 1, 5, 1, 9, 14, 1, 4, 19, 15, 5, 16, 1, 1, 3, 4, 20, 1, 3, 4, 7, 11, 11, 1, 9, 14, 1, 3, 1, 2, 4, 9, 2, 5, 6, 14, 7, 9, 4, 1, 4, 13, 14, 15, 7, 2, 4, 5, 7, 1, 5, 7, 2, 20, 4, 7, 10, 8, 8, 4, 7, 4, 11, 14, 18, 3, 7, 4, 12, 3, 9, 20, 8, 17, 5, 2, 5, 10, 12, 19, 2, 5, 15, 10, 3, 7, 5, 16, 1, 2, 3, 7, 3, 5, 12, 1, 9, 13, 2, 5, 14, 15, 16, 1, 2, 1, 2, 7, 5, 10, 14, 2, 5, 11, 1, 11, 1, 3, 1, 1, 2, 5, 18, 1, 1, 3, 4, 1, 9, 1, 2, 1, 3, 7, 11, 13, 16, 13, 1, 3, 4, 4, 19, 3, 4, 1, 2, 8, 18, 1, 2, 5, 8, 4, 1, 2, 4, 5, 13, 2, 7, 2, 1, 1, 2, 16, 16, 5, 8, 5, 4, 2, 3, 4, 10, 14, 4, 11, 5, 1, 11, 13, 4, 14, 17, 12, 1, 15, 13, 18, 6, 14, 1, 8, 10, 4, 1, 19, 13, 15, 1, 2, 5, 8, 8, 7, 1, 2, 3, 4, 10, 1, 2, 3, 4, 7, 11, 3, 11, 15, 3, 13, 1, 4, 5, 7, 12, 9, 13, 12, 10, 12, 5, 9, 11, 1, 12, 7, 3, 6, 13, 1, 2, 3, 9, 3, 13, 4, 11, 1, 12, 8, 13, 1, 2, 6, 7, 10, 12, 7, 9, 16, 4, 7, 1, 2, 5, 8, 8, 8, 10, 12, 3, 10, 6, 1, 9, 14, 12, 9, 16, 20, 13, 9, 7, 15, 19, 1, 2, 7, 9, 5, 14, 4, 20, 1, 2, 15, 18, 7, 1, 2, 3, 4, 1, 2, 3, 5, 11, 13, 6, 12, 1, 16, 3, 17, 3, 10, 1, 10, 1, 1, 2, 4, 8, 12, 9, 4, 13, 14, 5, 18, 1, 10, 2, 18, 14, 5, 10, 17, 5, 15, 2, 1, 12, 14, 1, 2, 3, 4, 11, 12, 7, 3, 5, 7, 1, 2, 1, 1, 2, 4, 8, 12, 1, 2, 2, 12, 8, 2, 2, 8, 1, 1, 12, 3, 8, 1, 7, 8, 7, 3, 12, 10, 9, 11, 11, 1, 2, 5, 10, 20, 5, 8, 11, 13, 8, 15, 17, 10, 2, 1, 4, 9, 14, 8, 1, 6, 3, 13, 13, 1, 2, 5, 8, 14, 14, 4, 14, 1, 12, 16, 9, 4, 20, 4, 7, 10, 10, 2, 10, 12, 10, 10, 1, 2, 5, 11, 1, 3, 2, 11, 8, 18, 5, 10, 1, 7, 1, 2, 4, 6, 6, 13, 7, 6, 7, 1, 3, 7, 14, 15, 13, 4, 13, 5, 8, 14, 8, 1, 2, 4, 7, 8, 16, 13, 13, 11, 2, 17, 17, 4, 11, 6, 9, 11, 9, 13, 1, 9, 2, 5, 2, 17, 19, 20, 1, 11, 2, 5, 7, 16, 20, 17, 5, 10, 11, 1, 2, 4, 5, 1, 2, 7, 2, 4, 10, 13, 1, 2, 5, 2, 10, 7, 10, 6, 9, 9, 7, 3, 7, 10, 13, 20, 16, 1, 2, 8, 10, 10, 3, 18, 2, 13, 1, 2, 1, 2, 11, 1, 2, 11, 1, 2, 8, 10, 1, 15, 6, 7, 12, 14, 11, 2, 5, 16, 5, 16, 5, 15, 2, 2, 1, 2, 4, 8, 8, 4, 14, 12, 2, 7, 8, 9, 3, 4, 8, 18, 20, 3, 15, 1, 2, 3, 4, 10, 4, 10, 15, 1, 2, 15, 14, 1, 13, 10, 15, 4, 3, 4, 2, 4, 5, 8, 8, 8, 15, 1, 2, 3, 5, 10, 1, 2, 8, 5, 1, 11, 1, 2, 15, 9, 11, 15, 9, 10, 11, 5, 8, 2, 1, 3, 4, 8, 6, 1, 2, 5, 8, 1, 2, 3, 1, 5, 7, 8, 9, 1, 8, 9], \"Freq\": [0.9905803316354411, 0.9991377986831206, 0.8431204858746092, 0.9950162825212835, 0.1706848390826134, 0.8282634820821637, 0.9544462639788329, 0.9957563428290018, 0.13076228416946628, 0.8689609930563951, 0.972133070322024, 0.9889746137856976, 0.521265341119357, 0.21787197437037154, 0.22368410783299578, 0.00016606095607497832, 0.037031593204720166, 0.9932498647197998, 0.9969986473876133, 0.9908075414596539, 0.9108322435656389, 0.08767920804425743, 0.9922296614056524, 0.006553696574674058, 0.9982910940018768, 0.964256468599188, 0.9974482914853097, 0.9963440557469123, 0.998522973428024, 0.9989519747443072, 0.18268338286002297, 0.0687083519606281, 0.7485168695946074, 0.9969007655560798, 0.9911164886248787, 0.997165854441906, 0.9987381033708459, 0.9146561174959699, 0.08430010299502026, 0.9973843334913214, 0.9987126535359128, 0.9940611619958098, 0.9910464716064721, 0.832736449032779, 0.13093725208891602, 0.034875810135832776, 0.9973761593238761, 0.8347971389133692, 0.1595935706746147, 0.9999853083752647, 0.9994680840597495, 0.999289643037561, 0.9983663139217531, 0.999661204829219, 0.9977010482359314, 0.9992599749703927, 0.9983862695570569, 0.9969999590903974, 0.9916981795292261, 0.9573303831014005, 0.1955508055389015, 0.7129816980710392, 0.0912858848865226, 0.21998876778450693, 0.7776347140289547, 0.9976434812919827, 0.9947019398337027, 0.27580163315723033, 0.7226887713745608, 0.9949273202563615, 0.06612859457664598, 0.9332757304164907, 0.995541799756899, 0.9970037040032803, 0.9940932899415122, 0.9984635840366182, 0.9921758060007535, 0.21219070678525137, 0.7871208341084185, 0.9959472163161183, 0.9774716541099687, 0.9920964638743123, 0.9969137474576258, 0.9964414902461721, 0.9992179548134424, 0.004777526345533006, 0.9946809851399718, 0.27094572454753657, 0.7049280539093917, 0.022285579075338506, 0.17781489903284314, 0.6623351931716719, 0.08468982857161979, 0.07456753830409552, 0.9872412057676841, 0.9904647757017281, 0.37642354188285426, 0.622809860206177, 0.9925877328284725, 0.998079544847272, 0.9984004892287524, 0.9985617991337684, 0.9995882925374612, 0.06999660627774348, 0.6157223596466993, 0.31405556975943316, 0.9974993632744112, 0.9989664462433884, 0.9971226025085373, 0.9979014959699202, 0.9996434174654625, 0.9989071928346486, 0.9832218952119771, 0.9985942597811696, 0.9966617524865073, 0.9943293446704435, 0.9946957385277059, 0.9926726630563093, 0.999129995953321, 0.9988620944485016, 0.9907749408184098, 0.8710069575413706, 0.12857238907595553, 0.9975811257979211, 0.9592563234743275, 0.03904937246001688, 0.2811882167300127, 0.7165764232797098, 0.9348726942653904, 0.3433157574183887, 0.6561145586218095, 0.9953342441755751, 0.9960195337442237, 0.7951728227707368, 0.20335107460627308, 0.9938628416134827, 0.08703663369996398, 0.9115942161206754, 0.06279696358478289, 0.0066602840165678814, 0.05233080298731907, 0.3453832997163059, 0.5328227213254305, 0.9979117841441355, 0.9982363532433638, 0.9541068722232565, 0.9972902891690819, 0.9931608548450322, 0.6019497245066943, 0.39687168043337906, 0.9911314949596977, 0.9960573376467291, 0.9200143069464337, 0.07177416579014731, 0.17149791021753855, 0.828188400598264, 0.9991069546274596, 0.9988547390289585, 0.4601317903585855, 0.2172844565582209, 0.3218598634578994, 0.9987232614612155, 0.9957747853490622, 0.7651220680244393, 0.19858130009794606, 0.03407032109523585, 0.9925196248059439, 0.9978928197851598, 0.9957537948959913, 0.9924566954109525, 0.9787257506878816, 0.9971338386553834, 0.9907183262422633, 0.9966555989911753, 0.9942430198497935, 0.005603342133707888, 0.9666609125138306, 0.03152155149501622, 0.9993155677331123, 0.9281896215581346, 0.3714577798378115, 0.6230904694053612, 0.9741012670563289, 0.1975112973601572, 0.8010180392939709, 0.9825164816132006, 0.01668424214060152, 0.996186214473016, 0.9939651333015632, 0.6343789564114508, 0.0026487639098599198, 0.36155627369587906, 0.9967664242677635, 0.9226132038602005, 0.018309854100863956, 0.05798120465273587, 0.9930934560347554, 0.9234329552188926, 0.9967359022678801, 0.9980973045839627, 0.9606863483034289, 0.9989424100706542, 0.12256106164908358, 0.7193025414259323, 0.15766350163595705, 0.9989923600554658, 0.9955136350832369, 0.9869175970431254, 0.9959559024382032, 0.9988245144002172, 0.9967901476520115, 0.9982687364159807, 0.9980795087016777, 0.9833412151643672, 0.9000918647239189, 0.09857200730936722, 0.9328763697202613, 0.5228015858833013, 0.47566373797579053, 0.6254873089525279, 0.2307665756852264, 0.14329505461596917, 0.997256024886267, 0.9909412816983809, 0.9947188503915808, 0.996821561652256, 0.9949672596168755, 0.9996941915144635, 0.8916730569354461, 0.10760486431613359, 0.9966620596726387, 0.9951314240158778, 0.4926657502760236, 0.506046795345249, 0.9979962445765219, 0.6017844995430874, 0.39720763493414707, 0.9884589175636517, 0.9977285830736915, 0.9966136342538598, 0.002638871052746319, 0.9948642584859141, 0.9968790479681693, 0.44286878556115244, 0.9988569851521478, 0.5532835304233034, 0.4426268243386427, 0.9919463649139704, 0.9926484437216043, 0.9922788049391759, 0.6905988400982868, 0.30787186053332716, 0.0014488087554509511, 0.956729252778585, 0.9997331608282353, 0.9478658568481616, 0.8741122131231445, 0.12531520223535345, 0.9959247696370263, 0.9836190880909218, 0.01595674071062909, 0.993614431040959, 0.9986532888528568, 0.9910819961891129, 0.9886831927830341, 0.9897650877785023, 0.9957412780029781, 0.9952368959541538, 0.0009001651689704914, 0.8538066627685111, 0.1449265922042491, 0.9979431527153143, 0.9994182975194983, 0.9971283253230115, 0.9965664168691747, 0.9974548466366123, 0.06953597150314265, 0.6915495248120763, 0.23813688870939265, 0.9982439927174014, 0.9937633198061546, 0.004311337613041886, 0.992268804249916, 0.8888790814885547, 0.01674258543899675, 0.09436729974707259, 0.004707889421290145, 0.9933646678922206, 0.9996431752975253, 0.9869721767396812, 0.314877233436341, 0.2175138783606303, 0.4661011679156363, 0.10501184893706439, 0.8938813482691578, 0.9975873181285961, 0.9248540101984438, 0.0025207250209824035, 0.031256990260181805, 0.04133989034411142, 0.9896546403686026, 0.9301641433994372, 0.9940442449544565, 0.996015905608122, 0.4006932556478194, 0.04097999205489062, 0.5509532265157516, 0.007792886645566702, 0.6173697975876732, 0.015152835144157478, 0.30825196064686067, 0.050220825049207635, 0.9892940257626379, 0.9948550255252641, 0.9990190464232721, 0.996873954240799, 0.5901020776845077, 0.4055434031823572, 0.9955724730142206, 0.6929038229032534, 0.3059753514998525, 0.9717137265507839, 0.9993168556379818, 0.9973154440218432, 0.9916567285475443, 0.9958281381401246, 0.9921680722189812, 0.9556970605787937, 0.04417906194381915, 0.9924370875564689, 0.9954102848482405, 0.218801534252369, 0.7775268806468113, 0.7151174004733223, 0.28462384098440685, 0.9549469802885905, 0.9962411393423134, 0.9999083292886133, 0.9980158385665342, 0.99909847388905, 0.9896943722814127, 0.008149225826754758, 0.0020373064566886895, 0.9952602105089671, 0.8034903280369659, 0.19607597405211924, 0.9992846482680017, 0.9872098974249662, 0.012532938150902891, 0.9982428447130114, 0.06631671646328123, 0.23795998260353857, 0.6553651979900734, 0.03900983321369485, 0.1928315548109743, 0.6230518586513811, 0.11083134024087067, 0.06327870439428089, 0.00973518529142783, 0.9990039332734242, 0.9994476444373597, 0.9986381062457843, 0.9868297487172911, 0.9978524065399631, 0.9991384666719656, 0.9989312063303394, 0.9251704808444524, 0.9635174071976977, 0.9977917410474824, 0.9951557317537109, 0.9993205632694118, 0.3691660524983555, 0.42259344571707175, 0.20819448712325556, 0.9710303596774588, 0.36852122825073874, 0.01103356970810595, 0.025156538934481568, 0.5565332560768642, 0.038396822584208706, 0.9906866130021629, 0.6654765478523765, 0.3319938930001789, 0.9953481490063584, 0.9992186329224859, 0.9997734826239938, 0.1448910508272993, 0.7618617672585771, 0.09280603255604793, 0.9936289248293937, 0.9949897076171779, 0.002771559074142557, 0.9976869934259508, 0.9933392310639563, 0.11264754993265774, 0.8810647655447159, 0.9981569106415303, 0.9988507747088082, 0.9646021031479443, 0.03468729827693449, 0.9891648037349412, 0.984662281039796, 0.9946104628393149, 0.04917710952443752, 0.5111194662048096, 0.11447786151590374, 0.32448830464895245, 0.07731875076345356, 0.05476744845744627, 0.8666143314737087, 0.9976088722645643, 0.828619399338067, 0.3372528782504937, 0.568028295600237, 0.09444862640568648, 0.9958767856621403, 0.9954298176612398, 0.99137110812, 0.006837042124965517, 0.9588003278233961, 0.04005769563682652, 0.9968338844182495, 0.9768758198461278, 0.9531371278228572, 0.04571167857925948, 0.9980532775884273, 0.9967612048250425, 0.9983913143459223, 0.9973515406260846, 0.9243077030387327, 0.9941451086030244, 0.9806410850784745, 0.9985397864202596, 0.6966358950540057, 0.21467978275932378, 0.053669945689830946, 0.03434876524149181, 0.9734259827202514, 0.00503728003587594, 0.9940232604128522, 0.9559938095096152, 0.9995816795591789, 0.9659220279242982, 0.03240512609810549, 0.9991405506689891, 0.9822689813414417, 0.7553594467251753, 0.14295597817530944, 0.10156483120970891, 0.9957588864844396, 0.9955120122784012, 0.9974513162654454, 0.9961849134515173, 0.8978610774011838, 0.10141371468212008, 0.996610891915015, 0.15979434633330297, 0.839683667038057, 0.988249005439039, 0.9915847818073193, 0.9621941891454128, 0.9835077654065856, 0.01624141263974178, 0.01329867535155284, 0.22198558086822817, 0.7631393701737245, 0.9976838750151483, 0.7801758895819676, 0.21836444735582244, 0.9130411927172506, 0.08636876147325344, 0.9866905313438326, 0.6213287016798451, 0.378200079283384, 0.0976498249264054, 0.9022937604544327, 0.9993794143427566, 0.2991768556135906, 0.09636408083434005, 0.6039562740663871, 0.9874607534624679, 0.9996102037083201, 0.7414573014374383, 0.23497390808838625, 0.023401872960022208, 0.7326289410066364, 0.266623766150761, 0.9992201748350226, 0.9988317284371413, 0.2153879969769682, 0.00595935169501493, 0.6946901404474547, 0.07491756416590198, 0.008513359564307044, 0.988792727864761, 0.992032067791364, 0.7547536847602263, 0.24508739930760098, 0.9963518355565744, 0.9993217011843681, 0.9709114644979918, 0.6396759933738844, 0.35979186941223656, 0.7562525929205407, 0.24361212251340184, 0.9966006318159918, 0.6621047559791552, 0.07184027588858023, 0.6799659233785365, 0.12171664577300854, 0.12629245952387352, 0.9965361448108842, 0.3672739130281257, 0.5668025292405209, 0.02976533086354315, 0.03581929646290786, 0.9943903406966996, 0.9981535498270604, 0.9968176870191036, 0.9985661379997174, 0.9994449763693497, 0.048262801128770016, 0.9513674467110061, 0.9925548804421646, 0.986634582991037, 0.9670343589867022, 0.031641206020014793, 0.9985415754284378, 0.9991078128542649, 0.09998032110447912, 0.48130061554946924, 0.1743842809961845, 0.24355671245800437, 0.9863622360074203, 0.9966489703391308, 0.9965981716712357, 0.998194736627752, 0.3001264156727163, 0.6952295451659124, 0.9967893908918661, 0.9986059419013041, 0.9991287753362772, 0.9942961169198901, 0.9935397852862695, 0.9989347732084441, 0.9983515485759539, 0.9975335728894548, 0.9946315616635458, 0.9499230795536462, 0.9961335972824034, 0.3820691852160073, 0.6146330370866204, 0.9962121790466448, 0.9980967332740401, 0.9987269423166144, 0.9786270629269407, 0.9891206997694248, 0.9780837782744074, 0.9679919358709915, 0.03169485136238888, 0.8993295040912248, 0.09921428692821342, 0.9958972516323473, 0.9983839905482678, 0.4356877930433305, 0.008091344727947567, 0.31494003325703607, 0.2176364261440256, 0.023651623050923658, 0.38640755219540684, 0.03410942954302239, 0.3293925203315227, 0.12498491701165866, 0.12498491701165866, 0.9968509419251049, 0.9997874234994789, 0.9910862644765065, 0.9976586054568042, 0.9969351345320447, 0.9977104314794053, 0.3924229225636386, 0.28229633164657003, 0.12284543662861729, 0.20195045263946934, 0.9978845412626004, 0.2383585178200736, 0.7563299123136952, 0.9877938390622193, 0.33115241268977336, 0.6650644288186282, 0.9977417646241488, 0.9926963689620341, 0.995130304499083, 0.476383976112014, 0.5203578815992769, 0.9958724952823351, 0.9967799558350159, 0.9852633892601069, 0.996668818893985, 0.04910208677817225, 0.0006363121396739384, 0.9501200765564691, 0.9906103065515908, 0.9978882516121219, 0.9915592784638024, 0.9984906536895212, 0.986602435058658, 0.049127489617508076, 0.9457041751370304, 0.9978162900638958, 0.9913076652829199, 0.29232967683487476, 0.5146824196965288, 0.005796905772929528, 0.1602430381516948, 0.025257946582050085, 0.0016562587922655794, 0.9960278515071311, 0.9907384474446486, 0.9974230817399086, 0.9986178855326057, 0.9969265007496079, 0.11369184364473416, 0.49228313954000663, 0.3907998160181969, 0.0030521300307311183, 0.996092846994517, 0.9979789089983175, 0.9968786884365237, 0.9895066019832681, 0.8179464236895044, 0.18133258022198787, 0.9993987820440569, 0.722089946300879, 0.27750337976552897, 0.9984461080386237, 0.9984820309466356, 0.9947213329044363, 0.9143680494648752, 0.9826560012550498, 0.995690133205522, 0.9991303461900396, 0.998596106426538, 0.9898928341501907, 0.9612130107670989, 0.19010328800181642, 0.6353382990736568, 0.13739879022476112, 0.03670960044173007, 0.9980466035198886, 0.9953335194326565, 0.99769321879248, 0.8439789018608853, 0.16577527616029436, 0.8186071159065863, 0.014670378421264988, 0.9773345559563316, 0.9981848065762495, 0.04583672328021665, 0.3746204376360564, 0.5445264870882881, 0.03446370171444861, 0.4453034682365801, 0.033356065036447946, 0.16066504659222428, 0.18234648886591545, 0.1423192108221779, 0.03613573712281861, 0.9917511543441933, 0.9901309404109463, 0.9987493326747459, 0.9810346865567023, 0.9992428417516837, 0.9876613232606414, 0.9965218529889373, 0.9925248927019786, 0.5186225395665063, 0.48055849996529476, 0.9991886445029308, 0.6330983795299038, 0.006972978733903232, 0.35970952365238745, 0.9921030543660377, 0.9969021957065363, 0.9947227642691236, 0.9916984930051451, 0.008213563319812149, 0.9899726770331786, 0.9972710992646808, 0.9907989552590445, 0.16390085086512907, 0.8321120120845015, 0.9990656179003434, 0.948221619890562, 0.9907401886676998, 0.5319212700799587, 0.46737073088705827, 0.9831042886890666, 0.9987005925626296, 0.9814280385732158, 0.9991888605299298, 0.9994391645223522, 0.9914506347245643, 0.998133396299319, 0.00029693073933482816, 0.7007565448301944, 0.2984153930315023, 0.00029693073933482816, 0.9948054265907735, 0.990232013036521, 0.9980029642100487, 0.9935078720665812, 0.060308461883846254, 0.9386720277082522, 0.11302789888580642, 0.8861654794301391, 0.9993918646862784, 0.27340248753467744, 0.5233931510279238, 0.20277020483341096, 0.1933848710693125, 0.8043441540051051, 0.996360443819842, 0.0034694412415379114, 0.9995082461215968, 0.9984921076600065, 0.9941406809949034, 0.9993256805739664, 0.996252457781356, 0.0015615242284974231, 0.9987694543839017, 0.6634658575280715, 0.33574906591614273, 0.9788020157829967, 0.020837890341920687, 0.006837926001415257, 0.8595272983778978, 0.13265576442745597, 0.9988255201539504, 0.994667033327063, 0.9835754334274598, 0.9929872007854534, 0.9962390667188009, 0.9971945614159918, 0.9961608883497949, 0.5311716287288809, 0.06111703492390304, 0.39949671608795156, 0.007950183404735354, 0.8873758793898244, 0.998389791812693, 0.2786849462777998, 0.7186215595842637, 0.9949264831864644, 0.9922942372750667, 0.07342948285930505, 0.9137891200269073, 0.9966770313338489, 0.9985077864974771, 0.2713926970264097, 0.5932184155675994, 0.1352235389365038, 0.9869282319399801, 0.994611775138003, 0.9996762775481424, 0.9939975989535622, 0.9989840615019656, 0.9944680901659889, 0.996673155478828, 0.5042923167018083, 0.4912318325005558, 0.0032651210503131145, 0.0011259038104527981, 0.9857117880995839, 0.9910537434822579, 0.9984886025813114, 0.9844416030718798, 0.9989578794466223, 0.9988292396904028, 0.996830956590848, 0.9966730832376532, 0.9983115177289309, 0.908952723657263, 0.9988228715668398, 0.9981965525350298, 0.9892224510518525, 0.9878021331052718, 0.07584314419105764, 0.9213537516543299, 0.9984248380615466, 0.9961260857803893, 0.9988810275564757, 0.8272392439831314, 0.17259064515998912, 0.9130172763623625, 0.08579772277873264, 0.08680077600087042, 0.9117922222392318, 0.9995886853241286, 0.9884721140044254, 0.9921811540600336, 0.9904136780843189, 0.9976588788184345, 0.9975575042376764, 0.03981464422273909, 0.9592551491804115, 0.2622128706080113, 0.09815701483217294, 0.6396335051035495, 0.9843111917462742, 0.9889974845926164, 0.9914853415988605, 0.9969641583228043, 0.9953409624423057, 0.997460352779236, 0.3637159435933635, 0.26426236526705316, 0.2742077230996842, 0.021311481069923643, 0.07530056644706354, 0.990914901829752, 0.9989981829790009, 0.9928258353863105, 0.38418649501265945, 0.6146983920202551, 0.9956309820803269, 0.9959747459890658, 0.9990930407725774, 0.20553620207418466, 0.646047385165471, 0.09634509472227405, 0.05191930104478102, 0.9571547977242864, 0.9993998147348495, 0.991697523652336, 0.9940822425139418, 0.9984695319713143, 0.9853883665726358, 0.9270791568323336, 0.6515836728903426, 0.3477975453319127, 0.9954951960552084, 0.4642821825100394, 0.5315694553375813, 0.8575440854377364, 0.1400655339548303, 0.9992794633735975, 0.9932570279283288, 0.0014485723577328446, 0.99806635447793, 0.9977678177552751, 0.9932806116451637, 0.9749682902915983, 0.9536245652201023, 0.9994857700221855, 0.9895624873864419, 0.5021924969691248, 0.09540332396247225, 0.17888123242963547, 0.22260775591243526, 0.9638698096842233, 0.9910930211849445, 0.9520107705566622, 0.0459353809677521, 0.9923271745792104, 0.0020348317140905904, 0.16583878469838312, 0.5906099050147939, 0.2416362660482576, 0.9606244119574784, 0.03903534736436003, 0.9946850118984445, 0.20669399061826685, 0.7310521348851492, 0.051914737139415294, 0.010228554157579966, 0.9317653352843924, 0.04951608507244511, 0.018491484051950457, 0.9994979586516016, 0.9963137977698735, 0.99904893881581, 0.980579787672163, 0.9875218446679817, 0.9917598626246655, 0.9992078140046182, 0.9964138614311709, 0.5942798442147699, 0.11574862325228852, 0.23615826489057523, 0.052824875041312884, 0.8281955150631367, 0.9790173384946228, 0.8817414940881806, 0.11801232819091644, 0.9962424126063842, 0.9993082494133899, 0.9892369472885301, 0.9996755581542806, 0.9453364666919933, 0.9974439886427867, 0.9852978330374627, 0.6985370310763995, 0.30118237695150235, 0.7394131504593231, 0.2604968212430414, 0.9958718518866776, 0.9929469286823953, 0.0068091172807677675, 0.991841446967252, 0.5018668775950368, 0.15188076558797167, 0.27074397343942774, 0.07373921227821813, 0.9731985808897201, 0.024534418005623195, 0.9921707137305781, 0.9988273149341989, 0.9976348678053328, 0.9900702768353881, 0.9946924583979339, 0.4040977095864798, 0.46218675533953624, 0.13385736630052142, 0.2508457886149663, 0.7459361608813473, 0.9969750913770984, 0.9906786833211646, 0.9992485054027683, 0.9982903474499556, 0.8019780219050422, 0.10919274736933937, 0.08864696615185268, 0.9970299051195349, 0.9977295399055897, 0.8468107771823803, 0.15243885844015387, 0.9882247100732373, 0.9988688210186984, 0.9980312800046836, 0.9965006283119611, 0.9976496183721633, 0.999279694456118, 0.9961219995542316, 0.9926195190014185, 0.97084063474155, 0.8784835645615715, 0.9959089986933798, 0.9807764031429512, 0.1499481532758794, 0.12606691976390294, 0.14539934689264578, 0.528961199421737, 0.0495494981030804, 0.9244184541087674, 0.07471054316611805, 0.9354971756264319, 0.032731531385419774, 0.9101883535253268, 0.05539182234455654, 0.9829221876860982, 0.999475971066212, 0.9958459363094051, 0.5648252888597483, 0.4236189666448112, 0.9988207351814716, 0.9987012187628693, 0.9984893640997166, 0.9317347108322337, 0.06705006797577756, 0.5650043867078347, 0.4337569087757031, 0.9953650686460683, 0.9959515818974976, 0.9700521188727034, 0.876497458430379, 0.005201147984989194, 0.11817008221895449, 0.9979427565192388, 0.9948423817843207, 0.709672158811471, 0.2813532346034283, 0.008826768144421281, 0.9983883994825348, 0.9987472471201057, 0.9977218612732948, 0.9284534190316807, 0.07133375608406671, 0.994686071960454, 0.9987906468521857, 0.9950392149103489, 0.9994000508945703, 0.997827890390671, 0.9911910795429721, 0.9928986225692201, 0.9981979048854633, 0.9989402844691124, 0.9993653868807295, 0.7293894692225434, 0.0006088392898351782, 0.26464214464835745, 0.005276607178571545, 0.9741292775480819, 0.11723084370070379, 0.7442937420372808, 0.10685102941470397, 0.031139442857999442, 0.23162760201381333, 0.11450833143033927, 0.6537791639449468, 0.706009070091025, 0.013328432712341132, 0.14342985053131277, 0.0029839774729121934, 0.13408005444952123, 0.5907218204197947, 0.3746352670627702, 0.031965466472932615], \"Term\": [\"absolute\", \"accept\", \"accessible\", \"accomplish\", \"address\", \"address\", \"adequately\", \"agency\", \"agree\", \"agree\", \"alarm\", \"algorithm\", \"also\", \"also\", \"also\", \"also\", \"also\", \"animal\", \"apple\", \"applicable\", \"application\", \"application\", \"apply\", \"apply\", \"appreciate\", \"approval\", \"apr\", \"arab\", \"argument\", \"armenian\", \"article\", \"article\", \"article\", \"associate\", \"assure\", \"atheism\", \"atheist\", \"attack\", \"attack\", \"author\", \"authority\", \"auto\", \"automatically\", \"available\", \"available\", \"available\", \"average\", \"aware\", \"aware\", \"ax\", \"back\", \"bad\", \"belief\", \"believe\", \"bible\", \"big\", \"bike\", \"bio\", \"birth\", \"birthday\", \"bit\", \"bit\", \"bit\", \"black\", \"black\", \"blank\", \"blind\", \"block\", \"block\", \"blue\", \"book\", \"book\", \"box\", \"boy\", \"bug\", \"bus\", \"button\", \"buy\", \"buy\", \"cable\", \"campaign\", \"canadian\", \"cap\", \"capture\", \"car\", \"card\", \"card\", \"carry\", \"carry\", \"carry\", \"case\", \"case\", \"case\", \"case\", \"cbr\", \"cd\", \"center\", \"center\", \"ceremonial\", \"certainly\", \"character\", \"cheap\", \"child\", \"chip\", \"chip\", \"chip\", \"christian\", \"church\", \"circuit\", \"city\", \"claim\", \"clear\", \"click\", \"clipper\", \"clipper_chip\", \"clock\", \"closed\", \"club\", \"code\", \"com\", \"combination\", \"come\", \"come\", \"communication\", \"community\", \"community\", \"complete\", \"complete\", \"complexity\", \"computer\", \"computer\", \"computer_science\", \"concept\", \"conclusion\", \"conclusion\", \"connector\", \"contact\", \"contact\", \"control\", \"control\", \"control\", \"control\", \"control\", \"controller\", \"convert\", \"converter\", \"convince\", \"cool\", \"copy\", \"copy\", \"corner\", \"corporation\", \"correctly\", \"correctly\", \"cost\", \"cost\", \"country\", \"couple\", \"cover\", \"cover\", \"cover\", \"cpu\", \"crash\", \"create\", \"create\", \"create\", \"crew\", \"crime\", \"crypto\", \"cryptography\", \"cure\", \"cycle\", \"danger\", \"daughter\", \"day\", \"day\", \"dealer\", \"dealer\", \"death\", \"deck\", \"defense\", \"defense\", \"deficit\", \"define\", \"define\", \"department\", \"department\", \"dept\", \"depth\", \"describe\", \"describe\", \"describe\", \"description\", \"design\", \"design\", \"design\", \"detailed\", \"deter\", \"development\", \"device\", \"dialog\", \"die\", \"different\", \"different\", \"different\", \"direct\", \"directory\", \"dirty\", \"discount\", \"discussion\", \"disease\", \"disk\", \"display\", \"distribution_inet\", \"distribution_world\", \"distribution_world\", \"divide\", \"division\", \"division\", \"do\", \"do\", \"do\", \"doctor\", \"dog\", \"door\", \"doubt\", \"draft\", \"drive\", \"driver\", \"driver\", \"drug\", \"dual\", \"earth\", \"earth\", \"electronic\", \"email\", \"email\", \"enable\", \"encryption\", \"end\", \"end\", \"energy\", \"engine\", \"enhanced_mode\", \"entry\", \"environment\", \"environment\", \"environmental\", \"escape\", \"essentially\", \"even\", \"even\", \"even\", \"everytime\", \"evidence\", \"evolve\", \"example\", \"example\", \"excuse\", \"exist\", \"exist\", \"expansion\", \"explain\", \"export\", \"exposure\", \"extension\", \"external\", \"facility\", \"fact\", \"fact\", \"fact\", \"factor\", \"faith\", \"family\", \"fan\", \"faq\", \"fast\", \"fast\", \"fast\", \"fax\", \"feature\", \"feature\", \"fee\", \"field\", \"field\", \"field\", \"fight\", \"fight\", \"file\", \"film\", \"final\", \"final\", \"final\", \"fire\", \"fire\", \"firearm\", \"first\", \"first\", \"first\", \"first\", \"fish\", \"flexible\", \"flight\", \"floppy\", \"fly\", \"fly\", \"fly\", \"follow\", \"follow\", \"follow\", \"follow\", \"follow\", \"follower\", \"font\", \"force\", \"format\", \"front\", \"front\", \"fuel\", \"function\", \"function\", \"galaxy\", \"game\", \"gateway\", \"gear\", \"generate\", \"genesis\", \"get\", \"get\", \"giant\", \"gift\", \"girl\", \"girl\", \"give\", \"give\", \"global\", \"gmt\", \"go\", \"goal\", \"god\", \"good\", \"good\", \"good\", \"good_luck\", \"government\", \"government\", \"graphic\", \"great\", \"great\", \"greek\", \"ground\", \"ground\", \"ground\", \"ground\", \"group\", \"group\", \"group\", \"group\", \"group\", \"guess\", \"gun\", \"guy\", \"handgun\", \"handle\", \"hard\", \"hardware\", \"harley\", \"hassle\", \"headache\", \"health\", \"hear\", \"help\", \"help\", \"help\", \"hi\", \"high\", \"high\", \"high\", \"high\", \"high\", \"highway\", \"hit\", \"hit\", \"hole\", \"home\", \"host\", \"however\", \"however\", \"however\", \"hr\", \"human\", \"human\", \"human_being\", \"hunt\", \"ice\", \"ice\", \"ide\", \"ill\", \"image\", \"image\", \"import\", \"impressive\", \"improve\", \"include\", \"include\", \"include\", \"include\", \"increase\", \"increase\", \"increase\", \"indeed\", \"infinity\", \"information\", \"information\", \"information\", \"informed\", \"inhabitant\", \"input\", \"input\", \"instal\", \"instal\", \"insurance\", \"intent\", \"interested\", \"interested\", \"interface\", \"internal\", \"internet\", \"interpretation\", \"intersection\", \"investigation\", \"investment\", \"israeli\", \"issue\", \"issue\", \"issue\", \"issue\", \"japanese\", \"jewish\", \"jewish\", \"judaism\", \"key\", \"keyword\", \"keyword\", \"kill\", \"km\", \"know\", \"know\", \"know\", \"lab\", \"laboratory\", \"land\", \"language\", \"last\", \"last\", \"launch\", \"law\", \"law\", \"leadership\", \"left\", \"lemieux\", \"let\", \"let\", \"level\", \"level\", \"level\", \"library\", \"license\", \"license\", \"life\", \"life\", \"lift\", \"light\", \"light\", \"line\", \"line\", \"little\", \"live\", \"live\", \"live\", \"lock\", \"long\", \"look\", \"look\", \"look\", \"lose\", \"lose\", \"lot\", \"love\", \"low\", \"low\", \"low\", \"low\", \"low\", \"luck\", \"lunar\", \"m\", \"m\", \"mac\", \"machine\", \"mad\", \"mail\", \"mail\", \"make\", \"make\", \"male\", \"malfunction\", \"man\", \"man\", \"man\", \"man\", \"manager\", \"many\", \"many\", \"many\", \"many\", \"mar\", \"master\", \"material\", \"matter\", \"maybe\", \"mean\", \"mean\", \"medical\", \"medicine\", \"meet\", \"meet\", \"member\", \"memory\", \"message\", \"message\", \"message\", \"message\", \"meter\", \"mhz\", \"mile\", \"military\", \"mirror\", \"mirror\", \"mission\", \"mode\", \"model\", \"modem\", \"modify\", \"money\", \"monitor\", \"moon\", \"moral\", \"moral_agency\", \"morality\", \"mother\", \"mother\", \"motif\", \"mouse\", \"move\", \"movie\", \"mph\", \"ms_window\", \"much\", \"much\", \"murder\", \"murder\", \"muslim\", \"national\", \"need\", \"need\", \"need\", \"need\", \"need\", \"new\", \"new\", \"new\", \"new\", \"new\", \"nhl\", \"nntp_poste\", \"noise\", \"normal\", \"northern\", \"notice\", \"number\", \"number\", \"number\", \"number\", \"object\", \"observation\", \"observation\", \"observe\", \"obtain\", \"obtain\", \"occupy\", \"offense\", \"oil\", \"operate\", \"operate\", \"operation\", \"opinions_expresse\", \"oracle\", \"orbit\", \"organization\", \"organization\", \"organization\", \"origin\", \"originator\", \"ozone\", \"package\", \"paint\", \"panel\", \"panel\", \"parent\", \"park\", \"part\", \"part\", \"part\", \"part\", \"part\", \"part\", \"particularly\", \"passage\", \"patient\", \"pc\", \"pen\", \"people\", \"people\", \"people\", \"people\", \"percent\", \"period\", \"pgp\", \"phase\", \"phone\", \"phone\", \"physical\", \"pick\", \"pick\", \"picture\", \"pin\", \"pitch\", \"pitt\", \"plane\", \"planet\", \"play\", \"player\", \"please_respond\", \"plot\", \"point\", \"point\", \"point\", \"point\", \"police\", \"popular\", \"port\", \"portal\", \"position\", \"position\", \"position\", \"positively\", \"possibility\", \"post\", \"post\", \"post\", \"post\", \"power\", \"power\", \"power\", \"power\", \"power\", \"power\", \"pp\", \"presence\", \"pretty\", \"prevention\", \"price\", \"primary\", \"printer\", \"privacy\", \"private\", \"private\", \"probably\", \"problem\", \"problem\", \"problem\", \"proceed\", \"processor\", \"production\", \"program\", \"program\", \"programmer\", \"proof\", \"property\", \"proposal\", \"proposal\", \"prove\", \"provision\", \"pub\", \"public\", \"public\", \"public_access\", \"publish\", \"publisher\", \"purpose\", \"put\", \"qualified\", \"quality\", \"question\", \"question\", \"question\", \"question\", \"quick\", \"radiation\", \"radio\", \"ram\", \"rate\", \"rate\", \"rather\", \"rather\", \"re\", \"read\", \"read\", \"read\", \"reality\", \"reality\", \"really\", \"really\", \"reason\", \"reference\", \"reflect\", \"religion\", \"religious\", \"religious\", \"remember\", \"remove\", \"remove\", \"reply\", \"reply\", \"report\", \"report\", \"report\", \"research\", \"resource\", \"responce\", \"restriction\", \"revelation\", \"ride\", \"rider\", \"right\", \"right\", \"right\", \"right\", \"rip\", \"risk\", \"road\", \"road\", \"rocket\", \"role\", \"routine\", \"routine\", \"rsa\", \"rule\", \"run\", \"run\", \"run\", \"runner\", \"russian\", \"s\", \"sabbath\", \"sale\", \"satellite\", \"saturn\", \"say\", \"say\", \"say\", \"say\", \"sc\", \"scale\", \"scan\", \"scare\", \"school\", \"science\", \"scientific\", \"score\", \"screen\", \"script\", \"scsi\", \"season\", \"second_amendment\", \"secrecy\", \"secret\", \"secret\", \"section\", \"secure\", \"security\", \"see\", \"see\", \"self\", \"self\", \"sell\", \"sell\", \"sense\", \"sensor\", \"serdar_argic\", \"serial\", \"serious\", \"server\", \"service\", \"service\", \"set\", \"set\", \"set\", \"seventh\", \"shareware\", \"shuttle\", \"signal\", \"sister\", \"site\", \"size\", \"size\", \"size\", \"size\", \"size\", \"sky\", \"software\", \"solar\", \"soldier\", \"soldier\", \"solid\", \"somehow\", \"soon\", \"source\", \"source\", \"source\", \"source\", \"soviet_union\", \"space\", \"space_station\", \"spacecraft\", \"speak\", \"spec\", \"spectrum\", \"speed\", \"speed\", \"split\", \"sport\", \"sport\", \"star\", \"star\", \"start\", \"stat\", \"state\", \"state\", \"statement\", \"status\", \"stereo\", \"steve\", \"still\", \"strip\", \"study\", \"study\", \"study\", \"study\", \"subscription\", \"sufficient\", \"suggest\", \"suggest\", \"suitable\", \"support\", \"support\", \"support\", \"support\", \"sure\", \"sure\", \"surface\", \"system\", \"system\", \"system\", \"system\", \"take\", \"take\", \"take\", \"talk\", \"tap\", \"tape\", \"tavare\", \"tc\", \"teaching\", \"team\", \"technical\", \"technology\", \"technology\", \"technology\", \"technology\", \"tel_fax\", \"television\", \"tell\", \"tell\", \"terrorism\", \"test\", \"testing\", \"thank\", \"theft\", \"therefore\", \"thermal\", \"thing\", \"thing\", \"think\", \"think\", \"though\", \"time\", \"time\", \"tire\", \"today\", \"today\", \"today\", \"today\", \"top\", \"top\", \"tour\", \"trade\", \"transfer\", \"translate\", \"travel\", \"treat\", \"treat\", \"treat\", \"treatment\", \"treatment\", \"trial\", \"trivial\", \"true\", \"truth\", \"try\", \"try\", \"try\", \"turk\", \"turkish\", \"type\", \"type\", \"typically\", \"understand\", \"unit\", \"united_state\", \"universe\", \"university\", \"unix\", \"unknown\", \"unnecessary\", \"upcoming\", \"upgrade\", \"upper\", \"use\", \"use\", \"use\", \"use\", \"use\", \"user\", \"user\", \"user_interface\", \"value\", \"value\", \"value\", \"variation\", \"ve\", \"vehicle\", \"vendor\", \"vendor\", \"version\", \"version_pl\", \"video\", \"view\", \"view\", \"village\", \"village\", \"violate\", \"violence\", \"visualization\", \"want\", \"want\", \"want\", \"war\", \"warrant\", \"way\", \"way\", \"way\", \"weapon\", \"week\", \"weight\", \"well\", \"well\", \"widget\", \"win\", \"wind\", \"window\", \"wing\", \"wiretap\", \"wiring\", \"withdraw\", \"woman\", \"word\", \"work\", \"work\", \"work\", \"work\", \"workshop\", \"world\", \"world\", \"world\", \"world\", \"write\", \"write\", \"write\", \"year\", \"year\", \"year\", \"year\", \"year\", \"young\", \"young\", \"young\"]}, \"R\": 30, \"lambda.step\": 0.01, \"plot.opts\": {\"xlab\": \"PC1\", \"ylab\": \"PC2\"}, \"topic.order\": [19, 4, 12, 7, 14, 11, 1, 10, 2, 20, 17, 5, 3, 6, 9, 18, 16, 8, 15, 13]};\n",
       "\n",
       "function LDAvis_load_lib(url, callback){\n",
       "  var s = document.createElement('script');\n",
       "  s.src = url;\n",
       "  s.async = true;\n",
       "  s.onreadystatechange = s.onload = callback;\n",
       "  s.onerror = function(){console.warn(\"failed to load library \" + url);};\n",
       "  document.getElementsByTagName(\"head\")[0].appendChild(s);\n",
       "}\n",
       "\n",
       "if(typeof(LDAvis) !== \"undefined\"){\n",
       "   // already loaded: just create the visualization\n",
       "   !function(LDAvis){\n",
       "       new LDAvis(\"#\" + \"ldavis_el456414993484481922196306946\", ldavis_el456414993484481922196306946_data);\n",
       "   }(LDAvis);\n",
       "}else if(typeof define === \"function\" && define.amd){\n",
       "   // require.js is available: use it to load d3/LDAvis\n",
       "   require.config({paths: {d3: \"https://d3js.org/d3.v5\"}});\n",
       "   require([\"d3\"], function(d3){\n",
       "      window.d3 = d3;\n",
       "      LDAvis_load_lib(\"https://cdn.jsdelivr.net/gh/bmabey/pyLDAvis@3.4.0/pyLDAvis/js/ldavis.v3.0.0.js\", function(){\n",
       "        new LDAvis(\"#\" + \"ldavis_el456414993484481922196306946\", ldavis_el456414993484481922196306946_data);\n",
       "      });\n",
       "    });\n",
       "}else{\n",
       "    // require.js not available: dynamically load d3 & LDAvis\n",
       "    LDAvis_load_lib(\"https://d3js.org/d3.v5.js\", function(){\n",
       "         LDAvis_load_lib(\"https://cdn.jsdelivr.net/gh/bmabey/pyLDAvis@3.4.0/pyLDAvis/js/ldavis.v3.0.0.js\", function(){\n",
       "                 new LDAvis(\"#\" + \"ldavis_el456414993484481922196306946\", ldavis_el456414993484481922196306946_data);\n",
       "            })\n",
       "         });\n",
       "}\n",
       "</script>"
      ],
      "text/plain": [
       "PreparedData(topic_coordinates=              x         y  topics  cluster       Freq\n",
       "topic                                                \n",
       "18     0.336524 -0.053716       1        1  34.413768\n",
       "3      0.316929 -0.118905       2        1  15.585696\n",
       "11     0.216786  0.285238       3        1   9.181682\n",
       "6      0.247091  0.167005       4        1   9.110720\n",
       "13     0.184108 -0.279645       5        1   7.614203\n",
       "10    -0.019302  0.039638       6        1   5.391939\n",
       "0      0.153916  0.027983       7        1   5.120650\n",
       "9     -0.008545 -0.117702       8        1   2.140508\n",
       "1      0.006923 -0.062096       9        1   2.065611\n",
       "19     0.038372  0.069508      10        1   1.847952\n",
       "16    -0.037562  0.037040      11        1   1.732312\n",
       "4     -0.046036 -0.038089      12        1   1.606861\n",
       "2     -0.081906  0.028035      13        1   1.237493\n",
       "5     -0.118578  0.023845      14        1   1.144285\n",
       "8     -0.162684  0.013118      15        1   0.619224\n",
       "17    -0.175944 -0.007820      16        1   0.433673\n",
       "15    -0.204259 -0.001777      17        1   0.294853\n",
       "7     -0.212202 -0.003263      18        1   0.200450\n",
       "14    -0.214082 -0.003631      19        1   0.158955\n",
       "12    -0.219547 -0.004767      20        1   0.099166, topic_info=              Term          Freq         Total Category  logprob  loglift\n",
       "4399            ax  53235.000000  53235.000000  Default  30.0000  30.0000\n",
       "17            line  17060.000000  17060.000000  Default  29.0000  29.0000\n",
       "208          write  13405.000000  13405.000000  Default  28.0000  28.0000\n",
       "142   organization   9429.000000   9429.000000  Default  27.0000  27.0000\n",
       "45         article   9896.000000   9896.000000  Default  26.0000  26.0000\n",
       "...            ...           ...           ...      ...      ...      ...\n",
       "4946            tv      0.020348      1.258241  Topic20 -11.0492   2.7917\n",
       "6485   advertising      0.020348      1.258227  Topic20 -11.0492   2.7917\n",
       "7775          logo      0.020348      1.258225  Topic20 -11.0492   2.7917\n",
       "7567        circle      0.020348      1.258226  Topic20 -11.0492   2.7917\n",
       "4391             _      0.020348      1.258251  Topic20 -11.0492   2.7916\n",
       "\n",
       "[871 rows x 6 columns], token_table=      Topic      Freq        Term\n",
       "term                             \n",
       "495       9  0.990580    absolute\n",
       "1354      2  0.999138      accept\n",
       "1277     15  0.843120  accessible\n",
       "2283      6  0.995016  accomplish\n",
       "183       1  0.170685     address\n",
       "...     ...       ...         ...\n",
       "40        8  0.002984        year\n",
       "40        9  0.134080        year\n",
       "614       1  0.590722       young\n",
       "614       8  0.374635       young\n",
       "614       9  0.031965       young\n",
       "\n",
       "[1018 rows x 3 columns], R=30, lambda_step=0.01, plot_opts={'xlab': 'PC1', 'ylab': 'PC2'}, topic_order=[19, 4, 12, 7, 14, 11, 1, 10, 2, 20, 17, 5, 3, 6, 9, 18, 16, 8, 15, 13])"
      ]
     },
     "execution_count": 35,
     "metadata": {},
     "output_type": "execute_result"
    }
   ],
   "source": [
    "# Visualize the topics\n",
    "pyLDAvis.enable_notebook()\n",
    "vis = pyLDAvis.gensim.prepare(lda_model, corpus, id2word)\n",
    "vis"
   ]
  },
  {
   "cell_type": "markdown",
   "id": "060e99a4",
   "metadata": {},
   "source": [
    "    The plot on the left side shows a set of bubbles, each representing a topic.\n",
    "    Larger bubbles indicate that the corresponding topic is more prevalent in the corpus of text being analyzed.\n",
    "    A well-designed topic model will have large, non-overlapping bubbles spread evenly throughout the plot.\n",
    "    A model with too many topics will have many small, overlapping bubbles clustered together in one part of the plot.\n",
    "    When you hover over a bubble, the words and bars on the right-hand side of the plot will change. These words are the most important keywords that define the selected topic.\n",
    "    The topic model created using pyLDAvis looks good and is effective in identifying natural topics in the document.\n",
    "    To improve the model, the Mallet version of LDA algorithm will be used, and the focus will be on identifying the optimal number of topics for a given corpus of text."
   ]
  },
  {
   "cell_type": "markdown",
   "id": "74109c3c",
   "metadata": {},
   "source": [
    "### Building LDA Mallet Model"
   ]
  },
  {
   "cell_type": "code",
   "execution_count": 74,
   "id": "df7ee3ae",
   "metadata": {},
   "outputs": [],
   "source": [
    "# Download File: http://mallet.cs.umass.edu/dist/mallet-2.0.8.zip\n",
    "\n",
    "mallet_path =\"C:/Users/soulo/MACHINE_LEARNING/Topic Modeling/data/mallet-2.0.8/bin/mallet\"\n",
    "# mallet_path =\"C:/Users/soulo/MACHINE_LEARNING/Topic Modeling/data/mallet-2.0.8/bin\"\n",
    "\n",
    "# mallet_path =\"C:/Users/soulo/MACHINE_LEARNING/Topic Modeling/data/mallet-2.0.8\"\n",
    "# mallet_path =\"C:/Users/soulo/MACHINE_LEARNING/Topic Modeling/data\"\n",
    "\n",
    "\n",
    "# ldamallet = gensim.models.wrappers.LdaMallet(mallet_path, corpus=corpus, num_topics=20, id2word=id2word)"
   ]
  },
  {
   "cell_type": "code",
   "execution_count": 70,
   "id": "d3284e64",
   "metadata": {},
   "outputs": [],
   "source": [
    "# !pip install --upgrade gensim \n",
    "\n",
    "# !pip install gensim"
   ]
  },
  {
   "cell_type": "code",
   "execution_count": 76,
   "id": "8c44790e",
   "metadata": {},
   "outputs": [
    {
     "ename": "ModuleNotFoundError",
     "evalue": "No module named 'gensim.models.wrappers'",
     "output_type": "error",
     "traceback": [
      "\u001b[1;31m---------------------------------------------------------------------------\u001b[0m",
      "\u001b[1;31mModuleNotFoundError\u001b[0m                       Traceback (most recent call last)",
      "Cell \u001b[1;32mIn[76], line 1\u001b[0m\n\u001b[1;32m----> 1\u001b[0m \u001b[38;5;28;01mfrom\u001b[39;00m \u001b[38;5;21;01mgensim\u001b[39;00m\u001b[38;5;21;01m.\u001b[39;00m\u001b[38;5;21;01mmodels\u001b[39;00m\u001b[38;5;21;01m.\u001b[39;00m\u001b[38;5;21;01mwrappers\u001b[39;00m \u001b[38;5;28;01mimport\u001b[39;00m LdaMallet\n\u001b[0;32m      2\u001b[0m ldamallet \u001b[38;5;241m=\u001b[39m gensim\u001b[38;5;241m.\u001b[39mmodels\u001b[38;5;241m.\u001b[39mwrappers\u001b[38;5;241m.\u001b[39mldamallet\u001b[38;5;241m.\u001b[39mLdaMallet(mallet_path, corpus\u001b[38;5;241m=\u001b[39mcorpus, num_topics\u001b[38;5;241m=\u001b[39m\u001b[38;5;241m20\u001b[39m, id2word\u001b[38;5;241m=\u001b[39mid2word)\n",
      "\u001b[1;31mModuleNotFoundError\u001b[0m: No module named 'gensim.models.wrappers'"
     ]
    }
   ],
   "source": [
    "from gensim.models.wrappers import LdaMallet\n",
    "ldamallet = gensim.models.wrappers.ldamallet.LdaMallet(mallet_path, corpus=corpus, num_topics=20, id2word=id2word)\n"
   ]
  },
  {
   "cell_type": "code",
   "execution_count": 77,
   "id": "c55a78c9",
   "metadata": {},
   "outputs": [
    {
     "ename": "NameError",
     "evalue": "name 'ldamallet' is not defined",
     "output_type": "error",
     "traceback": [
      "\u001b[1;31m---------------------------------------------------------------------------\u001b[0m",
      "\u001b[1;31mNameError\u001b[0m                                 Traceback (most recent call last)",
      "Cell \u001b[1;32mIn[77], line 2\u001b[0m\n\u001b[0;32m      1\u001b[0m \u001b[38;5;66;03m# Show Topics\u001b[39;00m\n\u001b[1;32m----> 2\u001b[0m pprint(\u001b[43mldamallet\u001b[49m\u001b[38;5;241m.\u001b[39mshow_topics(formatted\u001b[38;5;241m=\u001b[39m\u001b[38;5;28;01mFalse\u001b[39;00m))\n\u001b[0;32m      4\u001b[0m \u001b[38;5;66;03m# Compute Coherence Score\u001b[39;00m\n\u001b[0;32m      5\u001b[0m coherence_model_ldamallet \u001b[38;5;241m=\u001b[39m CoherenceModel(model\u001b[38;5;241m=\u001b[39mldamallet, texts\u001b[38;5;241m=\u001b[39mdata_lemmatized, dictionary\u001b[38;5;241m=\u001b[39mid2word, coherence\u001b[38;5;241m=\u001b[39m\u001b[38;5;124m'\u001b[39m\u001b[38;5;124mc_v\u001b[39m\u001b[38;5;124m'\u001b[39m)\n",
      "\u001b[1;31mNameError\u001b[0m: name 'ldamallet' is not defined"
     ]
    }
   ],
   "source": [
    "# Show Topics\n",
    "pprint(ldamallet.show_topics(formatted=False))\n",
    "\n",
    "# Compute Coherence Score\n",
    "coherence_model_ldamallet = CoherenceModel(model=ldamallet, texts=data_lemmatized, dictionary=id2word, coherence='c_v')\n",
    "coherence_ldamallet = coherence_model_ldamallet.get_coherence()\n",
    "print('\\nCoherence Score: ', coherence_ldamallet)"
   ]
  },
  {
   "cell_type": "code",
   "execution_count": null,
   "id": "6d355aa6",
   "metadata": {},
   "outputs": [],
   "source": [
    "###"
   ]
  },
  {
   "cell_type": "code",
   "execution_count": 78,
   "id": "39ad02b6",
   "metadata": {},
   "outputs": [],
   "source": [
    "def compute_coherence_values(dictionary, corpus, texts, limit, start=2, step=3):\n",
    "    coherence_values = []\n",
    "    model_list = []\n",
    "    \n",
    "    for num_topics in range(start, limit, step):\n",
    "        model = gensim.models.ldamodel.LdaModel(corpus=corpus, num_topics=num_topics, id2word=dictionary)\n",
    "        model_list.append(model)\n",
    "        \n",
    "        coherencemodel = CoherenceModel(model=model, texts=texts, dictionary=dictionary, coherence='c_v')\n",
    "        coherence_values.append(coherencemodel.get_coherence())\n",
    "\n",
    "    return model_list, coherence_values"
   ]
  },
  {
   "cell_type": "code",
   "execution_count": null,
   "id": "0b06b62c",
   "metadata": {},
   "outputs": [],
   "source": [
    "###"
   ]
  },
  {
   "cell_type": "code",
   "execution_count": null,
   "id": "3219cb14",
   "metadata": {},
   "outputs": [],
   "source": [
    "###"
   ]
  },
  {
   "cell_type": "code",
   "execution_count": null,
   "id": "635e435d",
   "metadata": {},
   "outputs": [],
   "source": []
  },
  {
   "cell_type": "code",
   "execution_count": null,
   "id": "4e3f07d9",
   "metadata": {},
   "outputs": [],
   "source": [
    "###"
   ]
  },
  {
   "cell_type": "code",
   "execution_count": null,
   "id": "db6850fe",
   "metadata": {},
   "outputs": [],
   "source": []
  },
  {
   "cell_type": "code",
   "execution_count": null,
   "id": "7ee3ad66",
   "metadata": {},
   "outputs": [],
   "source": [
    "###"
   ]
  },
  {
   "cell_type": "code",
   "execution_count": null,
   "id": "e38db6b2",
   "metadata": {},
   "outputs": [],
   "source": []
  },
  {
   "cell_type": "code",
   "execution_count": null,
   "id": "d18de1ff",
   "metadata": {},
   "outputs": [],
   "source": [
    "###"
   ]
  },
  {
   "cell_type": "code",
   "execution_count": null,
   "id": "90d8a01b",
   "metadata": {},
   "outputs": [],
   "source": []
  },
  {
   "cell_type": "code",
   "execution_count": null,
   "id": "961496b2",
   "metadata": {},
   "outputs": [],
   "source": [
    "###"
   ]
  },
  {
   "cell_type": "code",
   "execution_count": null,
   "id": "df75419b",
   "metadata": {},
   "outputs": [],
   "source": []
  },
  {
   "cell_type": "code",
   "execution_count": null,
   "id": "72b4bbfc",
   "metadata": {},
   "outputs": [],
   "source": [
    "###"
   ]
  },
  {
   "cell_type": "code",
   "execution_count": null,
   "id": "08378c9f",
   "metadata": {},
   "outputs": [],
   "source": []
  },
  {
   "cell_type": "code",
   "execution_count": null,
   "id": "23a778ff",
   "metadata": {},
   "outputs": [],
   "source": [
    "###"
   ]
  },
  {
   "cell_type": "code",
   "execution_count": null,
   "id": "eb55a158",
   "metadata": {},
   "outputs": [],
   "source": []
  },
  {
   "cell_type": "code",
   "execution_count": null,
   "id": "91e309ee",
   "metadata": {},
   "outputs": [],
   "source": [
    "###"
   ]
  },
  {
   "cell_type": "code",
   "execution_count": null,
   "id": "84caeb63",
   "metadata": {},
   "outputs": [],
   "source": []
  },
  {
   "cell_type": "code",
   "execution_count": null,
   "id": "15b75b86",
   "metadata": {},
   "outputs": [],
   "source": [
    "###"
   ]
  },
  {
   "cell_type": "code",
   "execution_count": null,
   "id": "fa2a9f76",
   "metadata": {},
   "outputs": [],
   "source": []
  },
  {
   "cell_type": "code",
   "execution_count": null,
   "id": "cb185e06",
   "metadata": {},
   "outputs": [],
   "source": [
    "###"
   ]
  },
  {
   "cell_type": "code",
   "execution_count": null,
   "id": "e25a4896",
   "metadata": {},
   "outputs": [],
   "source": []
  },
  {
   "cell_type": "code",
   "execution_count": null,
   "id": "43c5b1c3",
   "metadata": {},
   "outputs": [],
   "source": [
    "###"
   ]
  },
  {
   "cell_type": "code",
   "execution_count": null,
   "id": "d8992f1f",
   "metadata": {},
   "outputs": [],
   "source": []
  },
  {
   "cell_type": "code",
   "execution_count": null,
   "id": "5d03577a",
   "metadata": {},
   "outputs": [],
   "source": [
    "###"
   ]
  },
  {
   "cell_type": "code",
   "execution_count": null,
   "id": "4de9fa51",
   "metadata": {},
   "outputs": [],
   "source": []
  },
  {
   "cell_type": "code",
   "execution_count": null,
   "id": "460faaa1",
   "metadata": {},
   "outputs": [],
   "source": []
  },
  {
   "cell_type": "code",
   "execution_count": null,
   "id": "88857554",
   "metadata": {},
   "outputs": [],
   "source": []
  },
  {
   "cell_type": "code",
   "execution_count": null,
   "id": "69c190b0",
   "metadata": {},
   "outputs": [],
   "source": []
  },
  {
   "cell_type": "code",
   "execution_count": null,
   "id": "e9c051dd",
   "metadata": {},
   "outputs": [],
   "source": []
  },
  {
   "cell_type": "code",
   "execution_count": null,
   "id": "3bd96e1d",
   "metadata": {},
   "outputs": [],
   "source": []
  },
  {
   "cell_type": "code",
   "execution_count": null,
   "id": "31f2a30d",
   "metadata": {},
   "outputs": [],
   "source": []
  },
  {
   "cell_type": "code",
   "execution_count": null,
   "id": "bd01336f",
   "metadata": {},
   "outputs": [],
   "source": []
  },
  {
   "cell_type": "code",
   "execution_count": null,
   "id": "2f045658",
   "metadata": {},
   "outputs": [],
   "source": []
  },
  {
   "cell_type": "code",
   "execution_count": null,
   "id": "2ad33442",
   "metadata": {},
   "outputs": [],
   "source": []
  },
  {
   "cell_type": "code",
   "execution_count": null,
   "id": "ae5ad15a",
   "metadata": {},
   "outputs": [],
   "source": []
  },
  {
   "cell_type": "code",
   "execution_count": null,
   "id": "69ba7025",
   "metadata": {},
   "outputs": [],
   "source": []
  }
 ],
 "metadata": {
  "kernelspec": {
   "display_name": "Python 3 (ipykernel)",
   "language": "python",
   "name": "python3"
  },
  "language_info": {
   "codemirror_mode": {
    "name": "ipython",
    "version": 3
   },
   "file_extension": ".py",
   "mimetype": "text/x-python",
   "name": "python",
   "nbconvert_exporter": "python",
   "pygments_lexer": "ipython3",
   "version": "3.9.13"
  }
 },
 "nbformat": 4,
 "nbformat_minor": 5
}
